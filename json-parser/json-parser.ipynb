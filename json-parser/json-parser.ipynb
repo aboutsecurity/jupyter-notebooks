{
 "cells": [
  {
   "cell_type": "code",
   "execution_count": 1,
   "metadata": {},
   "outputs": [
    {
     "name": "stdout",
     "output_type": "stream",
     "text": [
      "   techniqueID               tactic  score color comment  enabled metadata  \\\n",
      "0        T1047            execution      3                   True       []   \n",
      "13   T1053.005          persistence      3                   True       []   \n",
      "44   T1059.001            execution      3                   True       []   \n",
      "59   T1566.001       initial-access      3                   True       []   \n",
      "42   T1059.003            execution      3                   True       []   \n",
      "..         ...                  ...    ...   ...     ...      ...      ...   \n",
      "32   T1560.003           collection      1                   True       []   \n",
      "31   T1560.001           collection      1                   True       []   \n",
      "30       T1560           collection      1                   True       []   \n",
      "29       T1572  command-and-control      1                   True       []   \n",
      "89       T1008  command-and-control      1                   True       []   \n",
      "\n",
      "   links  showSubtechniques  \n",
      "0     []              False  \n",
      "13    []              False  \n",
      "44    []              False  \n",
      "59    []              False  \n",
      "42    []              False  \n",
      "..   ...                ...  \n",
      "32    []              False  \n",
      "31    []              False  \n",
      "30    []              False  \n",
      "29    []              False  \n",
      "89    []              False  \n",
      "\n",
      "[90 rows x 9 columns]\n"
     ]
    }
   ],
   "source": [
    "\n",
    "# By Ismael Valenzuela (@aboutsecurity / @thinkredactblue)\n",
    "\n",
    "import pandas as pd\n",
    "from pandas.io.json import json_normalize\n",
    "import json\n",
    "\n",
    "path = \"FIN6+FIN7+FIN8.json\"\n",
    "\n",
    "with open(path) as json_data:\n",
    "    data = json.load(json_data)\n",
    "\n",
    "df = pd.DataFrame(data['techniques'])\n",
    "\n",
    "sorted_df = df.sort_values(by=['score'], ascending=False)\n",
    "\n",
    "print (sorted_df)"
   ]
  },
  {
   "cell_type": "code",
   "execution_count": 2,
   "metadata": {},
   "outputs": [
    {
     "name": "stdout",
     "output_type": "stream",
     "text": [
      "['T1047', 'T1053.005', 'T1059.001', 'T1566.001', 'T1059.003', 'T1078', 'T1078', 'T1021.001', 'T1078', 'T1078', 'T1027', 'T1053.005', 'T1204.002', 'T1053.005', 'T1068', 'T1102', 'T1048.003', 'T1074.002', 'T1070.004', 'T1566.002', 'T1105', 'T1003.001', 'T1059.007', 'T1059', 'T1547.001', 'T1547.001', 'T1018', 'T1553.002', 'T1573.002', 'T1204.001', 'T1005', 'T1036.004', 'T1134', 'T1210', 'T1134', 'T1213', 'T1569.002', 'T1566.003', 'T1587.001', 'T1588.002', 'T1095', 'T1546.003', 'T1546.011', 'T1110.002', 'T1559.002', 'T1518.001', 'T1046', 'T1486', 'T1134.001', 'T1571', 'T1134.001', 'T1546.011', 'T1546.003', 'T1482', 'T1102.002', 'T1497.002', 'T1567.002', 'T1555.003', 'T1555', 'T1558.003', 'T1562.001', 'T1091', 'T1091', 'T1106', 'T1071.001', 'T1071.004', 'T1119', 'T1543.003', 'T1543.003', 'T1003.003', 'T1583.001', 'T1036.005', 'T1055.004', 'T1055.004', 'T1112', 'T1497.002', 'T1070.001', 'T1113', 'T1059.005', 'T1087.002', 'T1125', 'T1021.002', 'T1218.005', 'T1021.005', 'T1021.004', 'T1560.003', 'T1560.001', 'T1560', 'T1572', 'T1008']\n"
     ]
    }
   ],
   "source": [
    "print (sorted_df['techniqueID'].values.tolist())"
   ]
  }
 ],
 "metadata": {
  "interpreter": {
   "hash": "949777d72b0d2535278d3dc13498b2535136f6dfe0678499012e853ee9abcab1"
  },
  "kernelspec": {
   "display_name": "Python 3.9.12 64-bit",
   "language": "python",
   "name": "python3"
  },
  "language_info": {
   "codemirror_mode": {
    "name": "ipython",
    "version": 3
   },
   "file_extension": ".py",
   "mimetype": "text/x-python",
   "name": "python",
   "nbconvert_exporter": "python",
   "pygments_lexer": "ipython3",
   "version": "3.9.12"
  },
  "orig_nbformat": 4
 },
 "nbformat": 4,
 "nbformat_minor": 2
}
