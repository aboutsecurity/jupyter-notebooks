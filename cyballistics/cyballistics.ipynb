{
 "cells": [
  {
   "cell_type": "code",
   "execution_count": 52,
   "metadata": {},
   "outputs": [],
   "source": [
    "# By Ismael Valenzuela (@aboutsecurity / @thinkredactblue)\n",
    "\n",
    "# https://medium.com/@n0psl1de/mitre-att-ck-via-jupyter-notebooks-for-beginners-838bb380145c\n",
    "# https://attack.mitre.org/resources/working-with-attack/"
   ]
  },
  {
   "cell_type": "code",
   "execution_count": 53,
   "metadata": {},
   "outputs": [],
   "source": [
    "import pandas as pd\n",
    "import janitor as jn\n",
    "import plotly.express as px\n",
    "\n",
    "pd.set_option('display.max_rows', None)\n",
    "pd.set_option('display.max_columns', None)"
   ]
  },
  {
   "cell_type": "code",
   "execution_count": 54,
   "metadata": {},
   "outputs": [],
   "source": [
    "url_attack = 'https://attack.mitre.org/docs/enterprise-attack-v14.1/enterprise-attack-v14.1.xlsx'\n",
    "df_datasources = pd.read_excel(url_attack, sheet_name='datasources')\n",
    "df_tactics = pd.read_excel(url_attack, sheet_name='tactics')\n",
    "df_techniques = pd.read_excel(url_attack, sheet_name='techniques')\n",
    "df_relationships = pd.read_excel(url_attack, sheet_name='relationships')\n",
    "df_mitigations = pd.read_excel(url_attack, sheet_name='mitigations')\n",
    "df_software = pd.read_excel(url_attack, sheet_name='software')\n",
    "df_groups = pd.read_excel(url_attack, sheet_name='groups')"
   ]
  },
  {
   "cell_type": "code",
   "execution_count": 55,
   "metadata": {},
   "outputs": [],
   "source": [
    "df_datasources = jn.clean_names(df_datasources)\n",
    "df_tactics = jn.clean_names(df_tactics)\n",
    "df_techniques = jn.clean_names(df_techniques)\n",
    "df_relationships = jn.clean_names(df_relationships)\n",
    "df_mitigations = jn.clean_names(df_mitigations)\n",
    "df_software = jn.clean_names(df_software)\n",
    "df_groups = jn.clean_names(df_groups)"
   ]
  },
  {
   "cell_type": "code",
   "execution_count": 56,
   "metadata": {},
   "outputs": [],
   "source": [
    "# Convert string of data sources to a list of data sources\n",
    "df_techniques['data_sources'] = df_techniques['data_sources'].str.split(\",\")\n",
    "# Use Pandas explode function to expand the list of data sources to separate rows\n",
    "df_techniques = df_techniques.explode('data_sources').reset_index(drop=True)\n",
    "# Get the technique ID and data sources then drop duplicate rows; place the output in a new data frame called 'viz_data' that'll be used for our visualization.\n",
    "viz_data = df_techniques[['data_sources','id']].drop_duplicates().groupby(['data_sources']).size().reset_index()\n",
    "# Rename column to 'count' in preparation for visualization\n",
    "viz_data.columns = viz_data.columns.map(str)\n",
    "viz_data = viz_data.rename(columns={\"0\": \"count\"})"
   ]
  },
  {
   "cell_type": "code",
   "execution_count": 57,
   "metadata": {},
   "outputs": [
    {
     "data": {
      "application/vnd.plotly.v1+json": {
       "config": {
        "plotlyServerURL": "https://plot.ly"
       },
       "data": [
        {
         "alignmentgroup": "True",
         "hovertemplate": "Data Source=%{x}<br>Technique Count=%{y}<extra></extra>",
         "legendgroup": "",
         "marker": {
          "color": "#636efa",
          "pattern": {
           "shape": ""
          }
         },
         "name": "",
         "offsetgroup": "",
         "orientation": "v",
         "showlegend": false,
         "textposition": "auto",
         "type": "bar",
         "x": [
          " Process: Process Creation",
          "Command: Command Execution",
          " File: File Modification",
          " Network Traffic: Network Traffic Flow",
          " Process: OS API Execution",
          "Application Log: Application Log Content",
          " Network Traffic: Network Traffic Content",
          " File: File Creation",
          " Windows Registry: Windows Registry Key Modification",
          " File: File Access",
          " Module: Module Load",
          " Command: Command Execution",
          " Network Traffic: Network Connection Creation",
          "Network Traffic: Network Traffic Content",
          " Script: Script Execution",
          " File: File Metadata",
          "File: File Creation",
          " User Account: User Account Authentication",
          " Logon Session: Logon Session Creation",
          "Network Traffic: Network Connection Creation",
          "Internet Scan: Response Content",
          " Windows Registry: Windows Registry Key Creation",
          " Process: Process Access",
          "File: File Metadata",
          " Sensor Health: Host Status",
          " Process: Process Metadata",
          "Logon Session: Logon Session Creation",
          " File: File Deletion",
          " Service: Service Creation",
          "File: File Modification",
          "Process: OS API Execution",
          " Process: Process Modification",
          " Logon Session: Logon Session Metadata",
          "Active Directory: Active Directory Object Modification",
          " Service: Service Metadata",
          " Windows Registry: Windows Registry Key Access",
          "Module: Module Load",
          " User Account: User Account Modification",
          " Driver: Driver Load",
          "Active Directory: Active Directory Credential Request",
          "Driver: Driver Load",
          " Group: Group Enumeration",
          " Scheduled Job: Scheduled Job Creation",
          " Network Share: Network Share Access",
          " Firmware: Firmware Modification",
          " Internet Scan: Response Metadata",
          " Service: Service Modification",
          " User Account: User Account Metadata",
          " Domain Name: Passive DNS",
          "Active Directory: Active Directory Object Creation"
         ],
         "xaxis": "x",
         "y": [
          235,
          231,
          93,
          89,
          86,
          75,
          74,
          68,
          67,
          47,
          44,
          44,
          38,
          36,
          30,
          29,
          28,
          25,
          24,
          23,
          22,
          22,
          20,
          17,
          17,
          15,
          15,
          15,
          14,
          14,
          13,
          12,
          11,
          11,
          11,
          10,
          10,
          9,
          8,
          8,
          6,
          6,
          6,
          6,
          6,
          6,
          6,
          6,
          5,
          5
         ],
         "yaxis": "y"
        }
       ],
       "layout": {
        "barmode": "relative",
        "legend": {
         "tracegroupgap": 0
        },
        "template": {
         "data": {
          "bar": [
           {
            "error_x": {
             "color": "#2a3f5f"
            },
            "error_y": {
             "color": "#2a3f5f"
            },
            "marker": {
             "line": {
              "color": "#E5ECF6",
              "width": 0.5
             },
             "pattern": {
              "fillmode": "overlay",
              "size": 10,
              "solidity": 0.2
             }
            },
            "type": "bar"
           }
          ],
          "barpolar": [
           {
            "marker": {
             "line": {
              "color": "#E5ECF6",
              "width": 0.5
             },
             "pattern": {
              "fillmode": "overlay",
              "size": 10,
              "solidity": 0.2
             }
            },
            "type": "barpolar"
           }
          ],
          "carpet": [
           {
            "aaxis": {
             "endlinecolor": "#2a3f5f",
             "gridcolor": "white",
             "linecolor": "white",
             "minorgridcolor": "white",
             "startlinecolor": "#2a3f5f"
            },
            "baxis": {
             "endlinecolor": "#2a3f5f",
             "gridcolor": "white",
             "linecolor": "white",
             "minorgridcolor": "white",
             "startlinecolor": "#2a3f5f"
            },
            "type": "carpet"
           }
          ],
          "choropleth": [
           {
            "colorbar": {
             "outlinewidth": 0,
             "ticks": ""
            },
            "type": "choropleth"
           }
          ],
          "contour": [
           {
            "colorbar": {
             "outlinewidth": 0,
             "ticks": ""
            },
            "colorscale": [
             [
              0,
              "#0d0887"
             ],
             [
              0.1111111111111111,
              "#46039f"
             ],
             [
              0.2222222222222222,
              "#7201a8"
             ],
             [
              0.3333333333333333,
              "#9c179e"
             ],
             [
              0.4444444444444444,
              "#bd3786"
             ],
             [
              0.5555555555555556,
              "#d8576b"
             ],
             [
              0.6666666666666666,
              "#ed7953"
             ],
             [
              0.7777777777777778,
              "#fb9f3a"
             ],
             [
              0.8888888888888888,
              "#fdca26"
             ],
             [
              1,
              "#f0f921"
             ]
            ],
            "type": "contour"
           }
          ],
          "contourcarpet": [
           {
            "colorbar": {
             "outlinewidth": 0,
             "ticks": ""
            },
            "type": "contourcarpet"
           }
          ],
          "heatmap": [
           {
            "colorbar": {
             "outlinewidth": 0,
             "ticks": ""
            },
            "colorscale": [
             [
              0,
              "#0d0887"
             ],
             [
              0.1111111111111111,
              "#46039f"
             ],
             [
              0.2222222222222222,
              "#7201a8"
             ],
             [
              0.3333333333333333,
              "#9c179e"
             ],
             [
              0.4444444444444444,
              "#bd3786"
             ],
             [
              0.5555555555555556,
              "#d8576b"
             ],
             [
              0.6666666666666666,
              "#ed7953"
             ],
             [
              0.7777777777777778,
              "#fb9f3a"
             ],
             [
              0.8888888888888888,
              "#fdca26"
             ],
             [
              1,
              "#f0f921"
             ]
            ],
            "type": "heatmap"
           }
          ],
          "heatmapgl": [
           {
            "colorbar": {
             "outlinewidth": 0,
             "ticks": ""
            },
            "colorscale": [
             [
              0,
              "#0d0887"
             ],
             [
              0.1111111111111111,
              "#46039f"
             ],
             [
              0.2222222222222222,
              "#7201a8"
             ],
             [
              0.3333333333333333,
              "#9c179e"
             ],
             [
              0.4444444444444444,
              "#bd3786"
             ],
             [
              0.5555555555555556,
              "#d8576b"
             ],
             [
              0.6666666666666666,
              "#ed7953"
             ],
             [
              0.7777777777777778,
              "#fb9f3a"
             ],
             [
              0.8888888888888888,
              "#fdca26"
             ],
             [
              1,
              "#f0f921"
             ]
            ],
            "type": "heatmapgl"
           }
          ],
          "histogram": [
           {
            "marker": {
             "pattern": {
              "fillmode": "overlay",
              "size": 10,
              "solidity": 0.2
             }
            },
            "type": "histogram"
           }
          ],
          "histogram2d": [
           {
            "colorbar": {
             "outlinewidth": 0,
             "ticks": ""
            },
            "colorscale": [
             [
              0,
              "#0d0887"
             ],
             [
              0.1111111111111111,
              "#46039f"
             ],
             [
              0.2222222222222222,
              "#7201a8"
             ],
             [
              0.3333333333333333,
              "#9c179e"
             ],
             [
              0.4444444444444444,
              "#bd3786"
             ],
             [
              0.5555555555555556,
              "#d8576b"
             ],
             [
              0.6666666666666666,
              "#ed7953"
             ],
             [
              0.7777777777777778,
              "#fb9f3a"
             ],
             [
              0.8888888888888888,
              "#fdca26"
             ],
             [
              1,
              "#f0f921"
             ]
            ],
            "type": "histogram2d"
           }
          ],
          "histogram2dcontour": [
           {
            "colorbar": {
             "outlinewidth": 0,
             "ticks": ""
            },
            "colorscale": [
             [
              0,
              "#0d0887"
             ],
             [
              0.1111111111111111,
              "#46039f"
             ],
             [
              0.2222222222222222,
              "#7201a8"
             ],
             [
              0.3333333333333333,
              "#9c179e"
             ],
             [
              0.4444444444444444,
              "#bd3786"
             ],
             [
              0.5555555555555556,
              "#d8576b"
             ],
             [
              0.6666666666666666,
              "#ed7953"
             ],
             [
              0.7777777777777778,
              "#fb9f3a"
             ],
             [
              0.8888888888888888,
              "#fdca26"
             ],
             [
              1,
              "#f0f921"
             ]
            ],
            "type": "histogram2dcontour"
           }
          ],
          "mesh3d": [
           {
            "colorbar": {
             "outlinewidth": 0,
             "ticks": ""
            },
            "type": "mesh3d"
           }
          ],
          "parcoords": [
           {
            "line": {
             "colorbar": {
              "outlinewidth": 0,
              "ticks": ""
             }
            },
            "type": "parcoords"
           }
          ],
          "pie": [
           {
            "automargin": true,
            "type": "pie"
           }
          ],
          "scatter": [
           {
            "fillpattern": {
             "fillmode": "overlay",
             "size": 10,
             "solidity": 0.2
            },
            "type": "scatter"
           }
          ],
          "scatter3d": [
           {
            "line": {
             "colorbar": {
              "outlinewidth": 0,
              "ticks": ""
             }
            },
            "marker": {
             "colorbar": {
              "outlinewidth": 0,
              "ticks": ""
             }
            },
            "type": "scatter3d"
           }
          ],
          "scattercarpet": [
           {
            "marker": {
             "colorbar": {
              "outlinewidth": 0,
              "ticks": ""
             }
            },
            "type": "scattercarpet"
           }
          ],
          "scattergeo": [
           {
            "marker": {
             "colorbar": {
              "outlinewidth": 0,
              "ticks": ""
             }
            },
            "type": "scattergeo"
           }
          ],
          "scattergl": [
           {
            "marker": {
             "colorbar": {
              "outlinewidth": 0,
              "ticks": ""
             }
            },
            "type": "scattergl"
           }
          ],
          "scattermapbox": [
           {
            "marker": {
             "colorbar": {
              "outlinewidth": 0,
              "ticks": ""
             }
            },
            "type": "scattermapbox"
           }
          ],
          "scatterpolar": [
           {
            "marker": {
             "colorbar": {
              "outlinewidth": 0,
              "ticks": ""
             }
            },
            "type": "scatterpolar"
           }
          ],
          "scatterpolargl": [
           {
            "marker": {
             "colorbar": {
              "outlinewidth": 0,
              "ticks": ""
             }
            },
            "type": "scatterpolargl"
           }
          ],
          "scatterternary": [
           {
            "marker": {
             "colorbar": {
              "outlinewidth": 0,
              "ticks": ""
             }
            },
            "type": "scatterternary"
           }
          ],
          "surface": [
           {
            "colorbar": {
             "outlinewidth": 0,
             "ticks": ""
            },
            "colorscale": [
             [
              0,
              "#0d0887"
             ],
             [
              0.1111111111111111,
              "#46039f"
             ],
             [
              0.2222222222222222,
              "#7201a8"
             ],
             [
              0.3333333333333333,
              "#9c179e"
             ],
             [
              0.4444444444444444,
              "#bd3786"
             ],
             [
              0.5555555555555556,
              "#d8576b"
             ],
             [
              0.6666666666666666,
              "#ed7953"
             ],
             [
              0.7777777777777778,
              "#fb9f3a"
             ],
             [
              0.8888888888888888,
              "#fdca26"
             ],
             [
              1,
              "#f0f921"
             ]
            ],
            "type": "surface"
           }
          ],
          "table": [
           {
            "cells": {
             "fill": {
              "color": "#EBF0F8"
             },
             "line": {
              "color": "white"
             }
            },
            "header": {
             "fill": {
              "color": "#C8D4E3"
             },
             "line": {
              "color": "white"
             }
            },
            "type": "table"
           }
          ]
         },
         "layout": {
          "annotationdefaults": {
           "arrowcolor": "#2a3f5f",
           "arrowhead": 0,
           "arrowwidth": 1
          },
          "autotypenumbers": "strict",
          "coloraxis": {
           "colorbar": {
            "outlinewidth": 0,
            "ticks": ""
           }
          },
          "colorscale": {
           "diverging": [
            [
             0,
             "#8e0152"
            ],
            [
             0.1,
             "#c51b7d"
            ],
            [
             0.2,
             "#de77ae"
            ],
            [
             0.3,
             "#f1b6da"
            ],
            [
             0.4,
             "#fde0ef"
            ],
            [
             0.5,
             "#f7f7f7"
            ],
            [
             0.6,
             "#e6f5d0"
            ],
            [
             0.7,
             "#b8e186"
            ],
            [
             0.8,
             "#7fbc41"
            ],
            [
             0.9,
             "#4d9221"
            ],
            [
             1,
             "#276419"
            ]
           ],
           "sequential": [
            [
             0,
             "#0d0887"
            ],
            [
             0.1111111111111111,
             "#46039f"
            ],
            [
             0.2222222222222222,
             "#7201a8"
            ],
            [
             0.3333333333333333,
             "#9c179e"
            ],
            [
             0.4444444444444444,
             "#bd3786"
            ],
            [
             0.5555555555555556,
             "#d8576b"
            ],
            [
             0.6666666666666666,
             "#ed7953"
            ],
            [
             0.7777777777777778,
             "#fb9f3a"
            ],
            [
             0.8888888888888888,
             "#fdca26"
            ],
            [
             1,
             "#f0f921"
            ]
           ],
           "sequentialminus": [
            [
             0,
             "#0d0887"
            ],
            [
             0.1111111111111111,
             "#46039f"
            ],
            [
             0.2222222222222222,
             "#7201a8"
            ],
            [
             0.3333333333333333,
             "#9c179e"
            ],
            [
             0.4444444444444444,
             "#bd3786"
            ],
            [
             0.5555555555555556,
             "#d8576b"
            ],
            [
             0.6666666666666666,
             "#ed7953"
            ],
            [
             0.7777777777777778,
             "#fb9f3a"
            ],
            [
             0.8888888888888888,
             "#fdca26"
            ],
            [
             1,
             "#f0f921"
            ]
           ]
          },
          "colorway": [
           "#636efa",
           "#EF553B",
           "#00cc96",
           "#ab63fa",
           "#FFA15A",
           "#19d3f3",
           "#FF6692",
           "#B6E880",
           "#FF97FF",
           "#FECB52"
          ],
          "font": {
           "color": "#2a3f5f"
          },
          "geo": {
           "bgcolor": "white",
           "lakecolor": "white",
           "landcolor": "#E5ECF6",
           "showlakes": true,
           "showland": true,
           "subunitcolor": "white"
          },
          "hoverlabel": {
           "align": "left"
          },
          "hovermode": "closest",
          "mapbox": {
           "style": "light"
          },
          "paper_bgcolor": "white",
          "plot_bgcolor": "#E5ECF6",
          "polar": {
           "angularaxis": {
            "gridcolor": "white",
            "linecolor": "white",
            "ticks": ""
           },
           "bgcolor": "#E5ECF6",
           "radialaxis": {
            "gridcolor": "white",
            "linecolor": "white",
            "ticks": ""
           }
          },
          "scene": {
           "xaxis": {
            "backgroundcolor": "#E5ECF6",
            "gridcolor": "white",
            "gridwidth": 2,
            "linecolor": "white",
            "showbackground": true,
            "ticks": "",
            "zerolinecolor": "white"
           },
           "yaxis": {
            "backgroundcolor": "#E5ECF6",
            "gridcolor": "white",
            "gridwidth": 2,
            "linecolor": "white",
            "showbackground": true,
            "ticks": "",
            "zerolinecolor": "white"
           },
           "zaxis": {
            "backgroundcolor": "#E5ECF6",
            "gridcolor": "white",
            "gridwidth": 2,
            "linecolor": "white",
            "showbackground": true,
            "ticks": "",
            "zerolinecolor": "white"
           }
          },
          "shapedefaults": {
           "line": {
            "color": "#2a3f5f"
           }
          },
          "ternary": {
           "aaxis": {
            "gridcolor": "white",
            "linecolor": "white",
            "ticks": ""
           },
           "baxis": {
            "gridcolor": "white",
            "linecolor": "white",
            "ticks": ""
           },
           "bgcolor": "#E5ECF6",
           "caxis": {
            "gridcolor": "white",
            "linecolor": "white",
            "ticks": ""
           }
          },
          "title": {
           "x": 0.05
          },
          "xaxis": {
           "automargin": true,
           "gridcolor": "white",
           "linecolor": "white",
           "ticks": "",
           "title": {
            "standoff": 15
           },
           "zerolinecolor": "white",
           "zerolinewidth": 2
          },
          "yaxis": {
           "automargin": true,
           "gridcolor": "white",
           "linecolor": "white",
           "ticks": "",
           "title": {
            "standoff": 15
           },
           "zerolinecolor": "white",
           "zerolinewidth": 2
          }
         }
        },
        "title": {
         "text": "MITRE ATT&CK: Sub-Technique Count by Data Source (Top 25)"
        },
        "xaxis": {
         "anchor": "y",
         "domain": [
          0,
          1
         ],
         "title": {
          "text": "Data Source"
         }
        },
        "yaxis": {
         "anchor": "x",
         "domain": [
          0,
          1
         ],
         "title": {
          "text": "Technique Count"
         }
        }
       }
      }
     },
     "metadata": {},
     "output_type": "display_data"
    }
   ],
   "source": [
    "fig_te_by_ds  = px.bar(viz_data.sort_values('count', ascending=False).head(50), x='data_sources', y='count', title='MITRE ATT&CK: Sub-Technique Count by Data Source (Top 25)', labels={'count':'Technique Count', 'data_sources':'Data Source'})\n",
    "fig_te_by_ds.show()"
   ]
  },
  {
   "cell_type": "code",
   "execution_count": 58,
   "metadata": {},
   "outputs": [
    {
     "data": {
      "text/html": [
       "<div>\n",
       "<style scoped>\n",
       "    .dataframe tbody tr th:only-of-type {\n",
       "        vertical-align: middle;\n",
       "    }\n",
       "\n",
       "    .dataframe tbody tr th {\n",
       "        vertical-align: top;\n",
       "    }\n",
       "\n",
       "    .dataframe thead th {\n",
       "        text-align: right;\n",
       "    }\n",
       "</style>\n",
       "<table border=\"1\" class=\"dataframe\">\n",
       "  <thead>\n",
       "    <tr style=\"text-align: right;\">\n",
       "      <th></th>\n",
       "      <th>version</th>\n",
       "    </tr>\n",
       "  </thead>\n",
       "  <tbody>\n",
       "    <tr>\n",
       "      <th>count</th>\n",
       "      <td>563.000000</td>\n",
       "    </tr>\n",
       "    <tr>\n",
       "      <th>mean</th>\n",
       "      <td>1.202327</td>\n",
       "    </tr>\n",
       "    <tr>\n",
       "      <th>std</th>\n",
       "      <td>0.364592</td>\n",
       "    </tr>\n",
       "    <tr>\n",
       "      <th>min</th>\n",
       "      <td>1.000000</td>\n",
       "    </tr>\n",
       "    <tr>\n",
       "      <th>25%</th>\n",
       "      <td>1.000000</td>\n",
       "    </tr>\n",
       "    <tr>\n",
       "      <th>50%</th>\n",
       "      <td>1.100000</td>\n",
       "    </tr>\n",
       "    <tr>\n",
       "      <th>75%</th>\n",
       "      <td>1.200000</td>\n",
       "    </tr>\n",
       "    <tr>\n",
       "      <th>max</th>\n",
       "      <td>3.100000</td>\n",
       "    </tr>\n",
       "  </tbody>\n",
       "</table>\n",
       "</div>"
      ],
      "text/plain": [
       "          version\n",
       "count  563.000000\n",
       "mean     1.202327\n",
       "std      0.364592\n",
       "min      1.000000\n",
       "25%      1.000000\n",
       "50%      1.100000\n",
       "75%      1.200000\n",
       "max      3.100000"
      ]
     },
     "execution_count": 58,
     "metadata": {},
     "output_type": "execute_result"
    }
   ],
   "source": [
    "df_software_malware = df_software.loc[df_software['type'] == 'malware']\n",
    "\n",
    "df_software_malware.describe()\n"
   ]
  },
  {
   "cell_type": "code",
   "execution_count": 59,
   "metadata": {},
   "outputs": [
    {
     "data": {
      "text/plain": [
       "49    [FIN13](https://attack.mitre.org/groups/G1016)...\n",
       "52    [FIN6](https://attack.mitre.org/groups/G0037) ...\n",
       "53    [FIN7](https://attack.mitre.org/groups/G0046) ...\n",
       "54    [FIN8](https://attack.mitre.org/groups/G0061) ...\n",
       "Name: description, dtype: object"
      ]
     },
     "execution_count": 59,
     "metadata": {},
     "output_type": "execute_result"
    }
   ],
   "source": [
    "df_groups[df_groups['description'].str.contains(\"retail\")]['description']"
   ]
  },
  {
   "cell_type": "code",
   "execution_count": 60,
   "metadata": {},
   "outputs": [
    {
     "data": {
      "text/html": [
       "<div>\n",
       "<style scoped>\n",
       "    .dataframe tbody tr th:only-of-type {\n",
       "        vertical-align: middle;\n",
       "    }\n",
       "\n",
       "    .dataframe tbody tr th {\n",
       "        vertical-align: top;\n",
       "    }\n",
       "\n",
       "    .dataframe thead th {\n",
       "        text-align: right;\n",
       "    }\n",
       "</style>\n",
       "<table border=\"1\" class=\"dataframe\">\n",
       "  <thead>\n",
       "    <tr style=\"text-align: right;\">\n",
       "      <th></th>\n",
       "      <th>id</th>\n",
       "      <th>stix_id</th>\n",
       "      <th>name</th>\n",
       "      <th>description</th>\n",
       "      <th>url</th>\n",
       "      <th>created</th>\n",
       "      <th>last_modified</th>\n",
       "      <th>domain</th>\n",
       "      <th>version</th>\n",
       "      <th>contributors</th>\n",
       "      <th>associated_groups</th>\n",
       "      <th>associated_groups_citations</th>\n",
       "      <th>relationship_citations</th>\n",
       "    </tr>\n",
       "  </thead>\n",
       "  <tbody>\n",
       "    <tr>\n",
       "      <th>53</th>\n",
       "      <td>G0046</td>\n",
       "      <td>intrusion-set--3753cc21-2dae-4dfb-8481-d004e74...</td>\n",
       "      <td>FIN7</td>\n",
       "      <td>[FIN7](https://attack.mitre.org/groups/G0046) ...</td>\n",
       "      <td>https://attack.mitre.org/groups/G0046</td>\n",
       "      <td>31 May 2017</td>\n",
       "      <td>04 October 2023</td>\n",
       "      <td>enterprise-attack,ics-attack</td>\n",
       "      <td>3.0</td>\n",
       "      <td>Edward Millington</td>\n",
       "      <td>Carbon Spider, GOLD NIAGARA, ITG14</td>\n",
       "      <td>(Citation: CrowdStrike Carbon Spider August 20...</td>\n",
       "      <td>(Citation: Trustwave Pillowmint June 2020),(Ci...</td>\n",
       "    </tr>\n",
       "  </tbody>\n",
       "</table>\n",
       "</div>"
      ],
      "text/plain": [
       "       id                                            stix_id  name   \n",
       "53  G0046  intrusion-set--3753cc21-2dae-4dfb-8481-d004e74...  FIN7  \\\n",
       "\n",
       "                                          description   \n",
       "53  [FIN7](https://attack.mitre.org/groups/G0046) ...  \\\n",
       "\n",
       "                                      url      created    last_modified   \n",
       "53  https://attack.mitre.org/groups/G0046  31 May 2017  04 October 2023  \\\n",
       "\n",
       "                          domain  version       contributors   \n",
       "53  enterprise-attack,ics-attack      3.0  Edward Millington  \\\n",
       "\n",
       "                     associated_groups   \n",
       "53  Carbon Spider, GOLD NIAGARA, ITG14  \\\n",
       "\n",
       "                          associated_groups_citations   \n",
       "53  (Citation: CrowdStrike Carbon Spider August 20...  \\\n",
       "\n",
       "                               relationship_citations  \n",
       "53  (Citation: Trustwave Pillowmint June 2020),(Ci...  "
      ]
     },
     "execution_count": 60,
     "metadata": {},
     "output_type": "execute_result"
    }
   ],
   "source": [
    "df_groups_FIN7 = df_groups.loc[df_groups['name'] == 'FIN7']\n",
    "\n",
    "df_groups_FIN7"
   ]
  },
  {
   "cell_type": "code",
   "execution_count": 61,
   "metadata": {},
   "outputs": [
    {
     "data": {
      "text/html": [
       "<div>\n",
       "<style scoped>\n",
       "    .dataframe tbody tr th:only-of-type {\n",
       "        vertical-align: middle;\n",
       "    }\n",
       "\n",
       "    .dataframe tbody tr th {\n",
       "        vertical-align: top;\n",
       "    }\n",
       "\n",
       "    .dataframe thead th {\n",
       "        text-align: right;\n",
       "    }\n",
       "</style>\n",
       "<table border=\"1\" class=\"dataframe\">\n",
       "  <thead>\n",
       "    <tr style=\"text-align: right;\">\n",
       "      <th></th>\n",
       "      <th>source_id</th>\n",
       "      <th>source_name</th>\n",
       "      <th>source_ref</th>\n",
       "      <th>source_type</th>\n",
       "      <th>mapping_type</th>\n",
       "      <th>target_id</th>\n",
       "      <th>target_name</th>\n",
       "      <th>target_ref</th>\n",
       "      <th>target_type</th>\n",
       "      <th>mapping_description</th>\n",
       "      <th>stix_id</th>\n",
       "      <th>created</th>\n",
       "      <th>last_modified</th>\n",
       "    </tr>\n",
       "  </thead>\n",
       "  <tbody>\n",
       "    <tr>\n",
       "      <th>4209</th>\n",
       "      <td>G0046</td>\n",
       "      <td>FIN7</td>\n",
       "      <td>intrusion-set--3753cc21-2dae-4dfb-8481-d004e74...</td>\n",
       "      <td>group</td>\n",
       "      <td>uses</td>\n",
       "      <td>S0552</td>\n",
       "      <td>AdFind</td>\n",
       "      <td>tool--f59508a6-3615-47c3-b493-6676e1a39a87</td>\n",
       "      <td>software</td>\n",
       "      <td>(Citation: CrowdStrike Carbon Spider August 2021)</td>\n",
       "      <td>relationship--210b5693-f039-4853-a0ea-70b4fa3a...</td>\n",
       "      <td>15 October 2021</td>\n",
       "      <td>15 October 2021</td>\n",
       "    </tr>\n",
       "    <tr>\n",
       "      <th>4210</th>\n",
       "      <td>G0046</td>\n",
       "      <td>FIN7</td>\n",
       "      <td>intrusion-set--3753cc21-2dae-4dfb-8481-d004e74...</td>\n",
       "      <td>group</td>\n",
       "      <td>uses</td>\n",
       "      <td>S0415</td>\n",
       "      <td>BOOSTWRITE</td>\n",
       "      <td>malware--56d10a7f-bb42-4267-9b4c-63abb9c06010</td>\n",
       "      <td>software</td>\n",
       "      <td>(Citation: FireEye FIN7 Oct 2019)</td>\n",
       "      <td>relationship--ece11a34-960b-4ead-8258-02bee1bb...</td>\n",
       "      <td>11 October 2019</td>\n",
       "      <td>11 October 2019</td>\n",
       "    </tr>\n",
       "    <tr>\n",
       "      <th>4211</th>\n",
       "      <td>G0046</td>\n",
       "      <td>FIN7</td>\n",
       "      <td>intrusion-set--3753cc21-2dae-4dfb-8481-d004e74...</td>\n",
       "      <td>group</td>\n",
       "      <td>uses</td>\n",
       "      <td>S0030</td>\n",
       "      <td>Carbanak</td>\n",
       "      <td>malware--72f54d66-675d-4587-9bd3-4ed09f9522e4</td>\n",
       "      <td>software</td>\n",
       "      <td>(Citation: FireEye FIN7 March 2017)(Citation: ...</td>\n",
       "      <td>relationship--7577e14c-ceba-4646-98ce-41e7fa9a...</td>\n",
       "      <td>31 May 2017</td>\n",
       "      <td>04 October 2023</td>\n",
       "    </tr>\n",
       "    <tr>\n",
       "      <th>4212</th>\n",
       "      <td>G0046</td>\n",
       "      <td>FIN7</td>\n",
       "      <td>intrusion-set--3753cc21-2dae-4dfb-8481-d004e74...</td>\n",
       "      <td>group</td>\n",
       "      <td>uses</td>\n",
       "      <td>S0154</td>\n",
       "      <td>Cobalt Strike</td>\n",
       "      <td>malware--a7881f21-e978-4fe4-af56-92c9416a2616</td>\n",
       "      <td>software</td>\n",
       "      <td>(Citation: CrowdStrike Carbon Spider August 20...</td>\n",
       "      <td>relationship--9c61749d-ad78-476d-8cd6-ba4eafc8...</td>\n",
       "      <td>23 September 2021</td>\n",
       "      <td>04 October 2023</td>\n",
       "    </tr>\n",
       "    <tr>\n",
       "      <th>4213</th>\n",
       "      <td>G0046</td>\n",
       "      <td>FIN7</td>\n",
       "      <td>intrusion-set--3753cc21-2dae-4dfb-8481-d004e74...</td>\n",
       "      <td>group</td>\n",
       "      <td>uses</td>\n",
       "      <td>S0488</td>\n",
       "      <td>CrackMapExec</td>\n",
       "      <td>tool--c4810609-7da6-48ec-8057-1b70a7814db0</td>\n",
       "      <td>software</td>\n",
       "      <td>\\n(Citation: CrowdStrike Carbon Spider August ...</td>\n",
       "      <td>relationship--707474c8-890d-4be2-81d5-f6a4902b...</td>\n",
       "      <td>23 September 2021</td>\n",
       "      <td>23 September 2021</td>\n",
       "    </tr>\n",
       "    <tr>\n",
       "      <th>4214</th>\n",
       "      <td>G0046</td>\n",
       "      <td>FIN7</td>\n",
       "      <td>intrusion-set--3753cc21-2dae-4dfb-8481-d004e74...</td>\n",
       "      <td>group</td>\n",
       "      <td>uses</td>\n",
       "      <td>S0417</td>\n",
       "      <td>GRIFFON</td>\n",
       "      <td>malware--04fc1842-f9e4-47cf-8cb8-5c61becad142</td>\n",
       "      <td>software</td>\n",
       "      <td>(Citation: SecureList Griffon May 2019)(Citati...</td>\n",
       "      <td>relationship--08678e7f-c675-4f85-9593-f06cb90f...</td>\n",
       "      <td>11 October 2019</td>\n",
       "      <td>14 January 2022</td>\n",
       "    </tr>\n",
       "    <tr>\n",
       "      <th>4215</th>\n",
       "      <td>G0046</td>\n",
       "      <td>FIN7</td>\n",
       "      <td>intrusion-set--3753cc21-2dae-4dfb-8481-d004e74...</td>\n",
       "      <td>group</td>\n",
       "      <td>uses</td>\n",
       "      <td>S0151</td>\n",
       "      <td>HALFBAKED</td>\n",
       "      <td>malware--0ced8926-914e-4c78-bc93-356fb90dbd1f</td>\n",
       "      <td>software</td>\n",
       "      <td>(Citation: FireEye FIN7 April 2017)(Citation: ...</td>\n",
       "      <td>relationship--49d09bc3-cdc0-479b-8516-f64bff9b...</td>\n",
       "      <td>14 December 2017</td>\n",
       "      <td>30 June 2019</td>\n",
       "    </tr>\n",
       "    <tr>\n",
       "      <th>4216</th>\n",
       "      <td>G0046</td>\n",
       "      <td>FIN7</td>\n",
       "      <td>intrusion-set--3753cc21-2dae-4dfb-8481-d004e74...</td>\n",
       "      <td>group</td>\n",
       "      <td>uses</td>\n",
       "      <td>S0648</td>\n",
       "      <td>JSS Loader</td>\n",
       "      <td>malware--f559f945-eb8b-48b1-904c-68568deebed3</td>\n",
       "      <td>software</td>\n",
       "      <td>(Citation: CrowdStrike Carbon Spider August 2021)</td>\n",
       "      <td>relationship--3f4ff91e-a279-4777-b362-a57b0c4c...</td>\n",
       "      <td>22 September 2021</td>\n",
       "      <td>22 September 2021</td>\n",
       "    </tr>\n",
       "    <tr>\n",
       "      <th>4217</th>\n",
       "      <td>G0046</td>\n",
       "      <td>FIN7</td>\n",
       "      <td>intrusion-set--3753cc21-2dae-4dfb-8481-d004e74...</td>\n",
       "      <td>group</td>\n",
       "      <td>uses</td>\n",
       "      <td>S0681</td>\n",
       "      <td>Lizar</td>\n",
       "      <td>malware--f74a5069-015d-4404-83ad-5ca01056c0dc</td>\n",
       "      <td>software</td>\n",
       "      <td>(Citation: Threatpost Lizar May 2021)(Citation...</td>\n",
       "      <td>relationship--d736ba76-c58b-4010-865e-68cd67fa...</td>\n",
       "      <td>02 February 2022</td>\n",
       "      <td>05 April 2022</td>\n",
       "    </tr>\n",
       "    <tr>\n",
       "      <th>4218</th>\n",
       "      <td>G0046</td>\n",
       "      <td>FIN7</td>\n",
       "      <td>intrusion-set--3753cc21-2dae-4dfb-8481-d004e74...</td>\n",
       "      <td>group</td>\n",
       "      <td>uses</td>\n",
       "      <td>S0002</td>\n",
       "      <td>Mimikatz</td>\n",
       "      <td>tool--afc079f3-c0ea-4096-b75d-3f05338b7f60</td>\n",
       "      <td>software</td>\n",
       "      <td>(Citation: CrowdStrike Carbon Spider August 2021)</td>\n",
       "      <td>relationship--0ea53e8d-743e-4828-8c65-9b610593...</td>\n",
       "      <td>23 September 2021</td>\n",
       "      <td>23 September 2021</td>\n",
       "    </tr>\n",
       "    <tr>\n",
       "      <th>4219</th>\n",
       "      <td>G0046</td>\n",
       "      <td>FIN7</td>\n",
       "      <td>intrusion-set--3753cc21-2dae-4dfb-8481-d004e74...</td>\n",
       "      <td>group</td>\n",
       "      <td>uses</td>\n",
       "      <td>S0145</td>\n",
       "      <td>POWERSOURCE</td>\n",
       "      <td>malware--17e919aa-4a49-445c-b103-dbb8df9e7351</td>\n",
       "      <td>software</td>\n",
       "      <td>(Citation: FireEye FIN7 March 2017)</td>\n",
       "      <td>relationship--b6eb09bc-fef4-4cf3-b337-dfe6bd87...</td>\n",
       "      <td>31 May 2017</td>\n",
       "      <td>20 July 2022</td>\n",
       "    </tr>\n",
       "    <tr>\n",
       "      <th>4220</th>\n",
       "      <td>G0046</td>\n",
       "      <td>FIN7</td>\n",
       "      <td>intrusion-set--3753cc21-2dae-4dfb-8481-d004e74...</td>\n",
       "      <td>group</td>\n",
       "      <td>uses</td>\n",
       "      <td>S0517</td>\n",
       "      <td>Pillowmint</td>\n",
       "      <td>malware--bd7a9e13-69fa-4243-a5e5-04326a63f9f2</td>\n",
       "      <td>software</td>\n",
       "      <td>(Citation: Trustwave Pillowmint June 2020)(Cit...</td>\n",
       "      <td>relationship--95d8ef7d-47b2-438d-921c-902dbb34...</td>\n",
       "      <td>07 October 2020</td>\n",
       "      <td>22 September 2021</td>\n",
       "    </tr>\n",
       "    <tr>\n",
       "      <th>4221</th>\n",
       "      <td>G0046</td>\n",
       "      <td>FIN7</td>\n",
       "      <td>intrusion-set--3753cc21-2dae-4dfb-8481-d004e74...</td>\n",
       "      <td>group</td>\n",
       "      <td>uses</td>\n",
       "      <td>S0194</td>\n",
       "      <td>PowerSploit</td>\n",
       "      <td>tool--13cd9151-83b7-410d-9f98-25d0f0d1d80d</td>\n",
       "      <td>software</td>\n",
       "      <td>(Citation: CrowdStrike Carbon Spider August 20...</td>\n",
       "      <td>relationship--6afed42c-6a42-402a-8964-7fcde543...</td>\n",
       "      <td>23 September 2021</td>\n",
       "      <td>04 October 2023</td>\n",
       "    </tr>\n",
       "    <tr>\n",
       "      <th>4222</th>\n",
       "      <td>G0046</td>\n",
       "      <td>FIN7</td>\n",
       "      <td>intrusion-set--3753cc21-2dae-4dfb-8481-d004e74...</td>\n",
       "      <td>group</td>\n",
       "      <td>uses</td>\n",
       "      <td>S0416</td>\n",
       "      <td>RDFSNIFFER</td>\n",
       "      <td>malware--065196de-d7e8-4888-acfb-b2134022ba1b</td>\n",
       "      <td>software</td>\n",
       "      <td>(Citation: FireEye FIN7 Oct 2019)</td>\n",
       "      <td>relationship--cc99be16-89cc-427a-b348-2236add3...</td>\n",
       "      <td>11 October 2019</td>\n",
       "      <td>11 October 2019</td>\n",
       "    </tr>\n",
       "    <tr>\n",
       "      <th>4223</th>\n",
       "      <td>G0046</td>\n",
       "      <td>FIN7</td>\n",
       "      <td>intrusion-set--3753cc21-2dae-4dfb-8481-d004e74...</td>\n",
       "      <td>group</td>\n",
       "      <td>uses</td>\n",
       "      <td>S0496</td>\n",
       "      <td>REvil</td>\n",
       "      <td>malware--ac61f1f9-7bb1-465e-9b8a-c2ce8e88baf5</td>\n",
       "      <td>software</td>\n",
       "      <td>(Citation: IBM Ransomware Trends September 202...</td>\n",
       "      <td>relationship--65adbdda-7069-40ed-9825-b79ec87e...</td>\n",
       "      <td>21 September 2021</td>\n",
       "      <td>14 January 2022</td>\n",
       "    </tr>\n",
       "    <tr>\n",
       "      <th>4224</th>\n",
       "      <td>G0046</td>\n",
       "      <td>FIN7</td>\n",
       "      <td>intrusion-set--3753cc21-2dae-4dfb-8481-d004e74...</td>\n",
       "      <td>group</td>\n",
       "      <td>uses</td>\n",
       "      <td>S0390</td>\n",
       "      <td>SQLRat</td>\n",
       "      <td>malware--8fc6c9e7-a162-4ca4-a488-f1819e9a7b06</td>\n",
       "      <td>software</td>\n",
       "      <td>(Citation: Flashpoint FIN 7 March 2019)</td>\n",
       "      <td>relationship--ceac12d5-3c40-42f6-a7df-0fa2e67b...</td>\n",
       "      <td>18 June 2019</td>\n",
       "      <td>29 January 2020</td>\n",
       "    </tr>\n",
       "    <tr>\n",
       "      <th>4225</th>\n",
       "      <td>G0046</td>\n",
       "      <td>FIN7</td>\n",
       "      <td>intrusion-set--3753cc21-2dae-4dfb-8481-d004e74...</td>\n",
       "      <td>group</td>\n",
       "      <td>uses</td>\n",
       "      <td>S0146</td>\n",
       "      <td>TEXTMATE</td>\n",
       "      <td>malware--4f6aa78c-c3d4-4883-9840-96ca2f5d6d47</td>\n",
       "      <td>software</td>\n",
       "      <td>(Citation: FireEye FIN7 March 2017)</td>\n",
       "      <td>relationship--e232f720-ab39-43f4-b419-ae8de115...</td>\n",
       "      <td>31 May 2017</td>\n",
       "      <td>20 July 2022</td>\n",
       "    </tr>\n",
       "  </tbody>\n",
       "</table>\n",
       "</div>"
      ],
      "text/plain": [
       "     source_id source_name                                         source_ref   \n",
       "4209     G0046        FIN7  intrusion-set--3753cc21-2dae-4dfb-8481-d004e74...  \\\n",
       "4210     G0046        FIN7  intrusion-set--3753cc21-2dae-4dfb-8481-d004e74...   \n",
       "4211     G0046        FIN7  intrusion-set--3753cc21-2dae-4dfb-8481-d004e74...   \n",
       "4212     G0046        FIN7  intrusion-set--3753cc21-2dae-4dfb-8481-d004e74...   \n",
       "4213     G0046        FIN7  intrusion-set--3753cc21-2dae-4dfb-8481-d004e74...   \n",
       "4214     G0046        FIN7  intrusion-set--3753cc21-2dae-4dfb-8481-d004e74...   \n",
       "4215     G0046        FIN7  intrusion-set--3753cc21-2dae-4dfb-8481-d004e74...   \n",
       "4216     G0046        FIN7  intrusion-set--3753cc21-2dae-4dfb-8481-d004e74...   \n",
       "4217     G0046        FIN7  intrusion-set--3753cc21-2dae-4dfb-8481-d004e74...   \n",
       "4218     G0046        FIN7  intrusion-set--3753cc21-2dae-4dfb-8481-d004e74...   \n",
       "4219     G0046        FIN7  intrusion-set--3753cc21-2dae-4dfb-8481-d004e74...   \n",
       "4220     G0046        FIN7  intrusion-set--3753cc21-2dae-4dfb-8481-d004e74...   \n",
       "4221     G0046        FIN7  intrusion-set--3753cc21-2dae-4dfb-8481-d004e74...   \n",
       "4222     G0046        FIN7  intrusion-set--3753cc21-2dae-4dfb-8481-d004e74...   \n",
       "4223     G0046        FIN7  intrusion-set--3753cc21-2dae-4dfb-8481-d004e74...   \n",
       "4224     G0046        FIN7  intrusion-set--3753cc21-2dae-4dfb-8481-d004e74...   \n",
       "4225     G0046        FIN7  intrusion-set--3753cc21-2dae-4dfb-8481-d004e74...   \n",
       "\n",
       "     source_type mapping_type target_id    target_name   \n",
       "4209       group         uses     S0552         AdFind  \\\n",
       "4210       group         uses     S0415     BOOSTWRITE   \n",
       "4211       group         uses     S0030       Carbanak   \n",
       "4212       group         uses     S0154  Cobalt Strike   \n",
       "4213       group         uses     S0488   CrackMapExec   \n",
       "4214       group         uses     S0417        GRIFFON   \n",
       "4215       group         uses     S0151      HALFBAKED   \n",
       "4216       group         uses     S0648     JSS Loader   \n",
       "4217       group         uses     S0681          Lizar   \n",
       "4218       group         uses     S0002       Mimikatz   \n",
       "4219       group         uses     S0145    POWERSOURCE   \n",
       "4220       group         uses     S0517     Pillowmint   \n",
       "4221       group         uses     S0194    PowerSploit   \n",
       "4222       group         uses     S0416     RDFSNIFFER   \n",
       "4223       group         uses     S0496          REvil   \n",
       "4224       group         uses     S0390         SQLRat   \n",
       "4225       group         uses     S0146       TEXTMATE   \n",
       "\n",
       "                                         target_ref target_type   \n",
       "4209     tool--f59508a6-3615-47c3-b493-6676e1a39a87    software  \\\n",
       "4210  malware--56d10a7f-bb42-4267-9b4c-63abb9c06010    software   \n",
       "4211  malware--72f54d66-675d-4587-9bd3-4ed09f9522e4    software   \n",
       "4212  malware--a7881f21-e978-4fe4-af56-92c9416a2616    software   \n",
       "4213     tool--c4810609-7da6-48ec-8057-1b70a7814db0    software   \n",
       "4214  malware--04fc1842-f9e4-47cf-8cb8-5c61becad142    software   \n",
       "4215  malware--0ced8926-914e-4c78-bc93-356fb90dbd1f    software   \n",
       "4216  malware--f559f945-eb8b-48b1-904c-68568deebed3    software   \n",
       "4217  malware--f74a5069-015d-4404-83ad-5ca01056c0dc    software   \n",
       "4218     tool--afc079f3-c0ea-4096-b75d-3f05338b7f60    software   \n",
       "4219  malware--17e919aa-4a49-445c-b103-dbb8df9e7351    software   \n",
       "4220  malware--bd7a9e13-69fa-4243-a5e5-04326a63f9f2    software   \n",
       "4221     tool--13cd9151-83b7-410d-9f98-25d0f0d1d80d    software   \n",
       "4222  malware--065196de-d7e8-4888-acfb-b2134022ba1b    software   \n",
       "4223  malware--ac61f1f9-7bb1-465e-9b8a-c2ce8e88baf5    software   \n",
       "4224  malware--8fc6c9e7-a162-4ca4-a488-f1819e9a7b06    software   \n",
       "4225  malware--4f6aa78c-c3d4-4883-9840-96ca2f5d6d47    software   \n",
       "\n",
       "                                    mapping_description   \n",
       "4209  (Citation: CrowdStrike Carbon Spider August 2021)  \\\n",
       "4210                  (Citation: FireEye FIN7 Oct 2019)   \n",
       "4211  (Citation: FireEye FIN7 March 2017)(Citation: ...   \n",
       "4212  (Citation: CrowdStrike Carbon Spider August 20...   \n",
       "4213  \\n(Citation: CrowdStrike Carbon Spider August ...   \n",
       "4214  (Citation: SecureList Griffon May 2019)(Citati...   \n",
       "4215  (Citation: FireEye FIN7 April 2017)(Citation: ...   \n",
       "4216  (Citation: CrowdStrike Carbon Spider August 2021)   \n",
       "4217  (Citation: Threatpost Lizar May 2021)(Citation...   \n",
       "4218  (Citation: CrowdStrike Carbon Spider August 2021)   \n",
       "4219                (Citation: FireEye FIN7 March 2017)   \n",
       "4220  (Citation: Trustwave Pillowmint June 2020)(Cit...   \n",
       "4221  (Citation: CrowdStrike Carbon Spider August 20...   \n",
       "4222                  (Citation: FireEye FIN7 Oct 2019)   \n",
       "4223  (Citation: IBM Ransomware Trends September 202...   \n",
       "4224            (Citation: Flashpoint FIN 7 March 2019)   \n",
       "4225                (Citation: FireEye FIN7 March 2017)   \n",
       "\n",
       "                                                stix_id            created   \n",
       "4209  relationship--210b5693-f039-4853-a0ea-70b4fa3a...    15 October 2021  \\\n",
       "4210  relationship--ece11a34-960b-4ead-8258-02bee1bb...    11 October 2019   \n",
       "4211  relationship--7577e14c-ceba-4646-98ce-41e7fa9a...        31 May 2017   \n",
       "4212  relationship--9c61749d-ad78-476d-8cd6-ba4eafc8...  23 September 2021   \n",
       "4213  relationship--707474c8-890d-4be2-81d5-f6a4902b...  23 September 2021   \n",
       "4214  relationship--08678e7f-c675-4f85-9593-f06cb90f...    11 October 2019   \n",
       "4215  relationship--49d09bc3-cdc0-479b-8516-f64bff9b...   14 December 2017   \n",
       "4216  relationship--3f4ff91e-a279-4777-b362-a57b0c4c...  22 September 2021   \n",
       "4217  relationship--d736ba76-c58b-4010-865e-68cd67fa...   02 February 2022   \n",
       "4218  relationship--0ea53e8d-743e-4828-8c65-9b610593...  23 September 2021   \n",
       "4219  relationship--b6eb09bc-fef4-4cf3-b337-dfe6bd87...        31 May 2017   \n",
       "4220  relationship--95d8ef7d-47b2-438d-921c-902dbb34...    07 October 2020   \n",
       "4221  relationship--6afed42c-6a42-402a-8964-7fcde543...  23 September 2021   \n",
       "4222  relationship--cc99be16-89cc-427a-b348-2236add3...    11 October 2019   \n",
       "4223  relationship--65adbdda-7069-40ed-9825-b79ec87e...  21 September 2021   \n",
       "4224  relationship--ceac12d5-3c40-42f6-a7df-0fa2e67b...       18 June 2019   \n",
       "4225  relationship--e232f720-ab39-43f4-b419-ae8de115...        31 May 2017   \n",
       "\n",
       "          last_modified  \n",
       "4209    15 October 2021  \n",
       "4210    11 October 2019  \n",
       "4211    04 October 2023  \n",
       "4212    04 October 2023  \n",
       "4213  23 September 2021  \n",
       "4214    14 January 2022  \n",
       "4215       30 June 2019  \n",
       "4216  22 September 2021  \n",
       "4217      05 April 2022  \n",
       "4218  23 September 2021  \n",
       "4219       20 July 2022  \n",
       "4220  22 September 2021  \n",
       "4221    04 October 2023  \n",
       "4222    11 October 2019  \n",
       "4223    14 January 2022  \n",
       "4224    29 January 2020  \n",
       "4225       20 July 2022  "
      ]
     },
     "execution_count": 61,
     "metadata": {},
     "output_type": "execute_result"
    }
   ],
   "source": [
    "df_relationships_FIN7 = df_relationships.loc[df_relationships['source_name'] == 'FIN7']\n",
    "\n",
    "df_relationships_FIN7 = df_relationships_APT28.loc[df_relationships_APT28['target_type'] == 'software']\n",
    "\n",
    "df_relationships_FIN7"
   ]
  },
  {
   "cell_type": "code",
   "execution_count": 62,
   "metadata": {},
   "outputs": [
    {
     "data": {
      "text/plain": [
       "source_id              17\n",
       "source_name            17\n",
       "source_ref             17\n",
       "source_type            17\n",
       "mapping_type           17\n",
       "target_id              17\n",
       "target_name            17\n",
       "target_ref             17\n",
       "target_type            17\n",
       "mapping_description    17\n",
       "stix_id                17\n",
       "created                17\n",
       "last_modified          17\n",
       "dtype: int64"
      ]
     },
     "execution_count": 62,
     "metadata": {},
     "output_type": "execute_result"
    }
   ],
   "source": [
    "df_relationships_FIN7.count()"
   ]
  },
  {
   "cell_type": "code",
   "execution_count": 63,
   "metadata": {},
   "outputs": [
    {
     "data": {
      "image/svg+xml": [
       "<?xml version=\"1.0\" encoding=\"UTF-8\" standalone=\"no\"?>\n",
       "<!DOCTYPE svg PUBLIC \"-//W3C//DTD SVG 1.1//EN\"\n",
       " \"http://www.w3.org/Graphics/SVG/1.1/DTD/svg11.dtd\">\n",
       "<!-- Generated by graphviz version 10.0.1 (20240210.2158)\n",
       " -->\n",
       "<!-- Pages: 1 -->\n",
       "<svg width=\"65pt\" height=\"135pt\"\n",
       " viewBox=\"0.00 0.00 65.25 134.50\" xmlns=\"http://www.w3.org/2000/svg\" xmlns:xlink=\"http://www.w3.org/1999/xlink\">\n",
       "<g id=\"graph0\" class=\"graph\" transform=\"scale(1 1) rotate(0) translate(4 130.5)\">\n",
       "<polygon fill=\"white\" stroke=\"none\" points=\"-4,4 -4,-130.5 61.25,-130.5 61.25,4 -4,4\"/>\n",
       "<!-- 1 -->\n",
       "<g id=\"node1\" class=\"node\">\n",
       "<title>1</title>\n",
       "<polygon fill=\"skyblue\" stroke=\"skyblue\" points=\"1.62,-90 1.62,-126 55.62,-126 55.62,-90 1.62,-90\"/>\n",
       "<text text-anchor=\"middle\" x=\"28.38\" y=\"-102.95\" font-family=\"Times,serif\" font-size=\"14.00\">FIN7</text>\n",
       "</g>\n",
       "<!-- 2 -->\n",
       "<g id=\"node2\" class=\"node\">\n",
       "<title>2</title>\n",
       "<polygon fill=\"skyblue\" stroke=\"skyblue\" points=\"0,-0.5 0,-36.5 57.25,-36.5 57.25,-0.5 0,-0.5\"/>\n",
       "<text text-anchor=\"middle\" x=\"28.62\" y=\"-13.45\" font-family=\"Times,serif\" font-size=\"14.00\">AdFind</text>\n",
       "</g>\n",
       "<!-- 1&#45;&gt;2 -->\n",
       "<g id=\"edge1\" class=\"edge\">\n",
       "<title>1&#45;&gt;2</title>\n",
       "<path fill=\"none\" stroke=\"black\" d=\"M28.62,-89.71C28.62,-77.85 28.62,-61.82 28.62,-48.08\"/>\n",
       "<polygon fill=\"black\" stroke=\"black\" points=\"32.13,-48.26 28.63,-38.26 25.13,-48.26 32.13,-48.26\"/>\n",
       "<text text-anchor=\"middle\" x=\"42.12\" y=\"-58.2\" font-family=\"Times,serif\" font-size=\"14.00\"> uses</text>\n",
       "</g>\n",
       "</g>\n",
       "</svg>\n"
      ],
      "text/plain": [
       "<graphviz.graphs.Digraph at 0x31c698220>"
      ]
     },
     "execution_count": 63,
     "metadata": {},
     "output_type": "execute_result"
    }
   ],
   "source": [
    "\n",
    "import graphviz\n",
    "f = graphviz.Digraph(filename = \"output/attacktree.gv\")\n",
    "\n",
    "names = [\"1\",\"2\"]\n",
    "positions = [df_relationships_FIN7['source_name'].iloc[0],\n",
    "             df_relationships_FIN7['target_name'].iloc[0]]\n",
    "for name, position in zip (names, positions):\n",
    "     f.node(name, position, shape = \"record\", style = \"filled\", color = \"skyblue\")\n",
    " \n",
    "#Specify edges\n",
    "f.edge(\"1\",\"2\", label=\" uses\");\n",
    "\n",
    "f"
   ]
  }
 ],
 "metadata": {
  "kernelspec": {
   "display_name": "Python 3",
   "language": "python",
   "name": "python3"
  },
  "language_info": {
   "codemirror_mode": {
    "name": "ipython",
    "version": 3
   },
   "file_extension": ".py",
   "mimetype": "text/x-python",
   "name": "python",
   "nbconvert_exporter": "python",
   "pygments_lexer": "ipython3",
   "version": "3.9.6"
  },
  "orig_nbformat": 4
 },
 "nbformat": 4,
 "nbformat_minor": 2
}
