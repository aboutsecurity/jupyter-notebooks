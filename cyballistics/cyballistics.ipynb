{
 "cells": [
  {
   "cell_type": "code",
   "execution_count": 1,
   "metadata": {},
   "outputs": [],
   "source": [
    "# By Ismael Valenzuela (@aboutsecurity / @thinkredactblue)\n",
    "\n",
    "# https://medium.com/@n0psl1de/mitre-att-ck-via-jupyter-notebooks-for-beginners-838bb380145c\n",
    "# https://attack.mitre.org/resources/working-with-attack/"
   ]
  },
  {
   "cell_type": "code",
   "execution_count": 2,
   "metadata": {},
   "outputs": [],
   "source": [
    "import pandas as pd\n",
    "import janitor as jn\n",
    "import plotly.express as px\n",
    "\n",
    "pd.set_option('display.max_rows', None)\n",
    "pd.set_option('display.max_columns', None)"
   ]
  },
  {
   "cell_type": "code",
   "execution_count": 3,
   "metadata": {},
   "outputs": [],
   "source": [
    "url_attack = 'https://attack.mitre.org/docs/enterprise-attack-v13.1/enterprise-attack-v13.1.xlsx'\n",
    "df_datasources = pd.read_excel(url_attack, sheet_name='datasources')\n",
    "df_tactics = pd.read_excel(url_attack, sheet_name='tactics')\n",
    "df_techniques = pd.read_excel(url_attack, sheet_name='techniques')\n",
    "df_relationships = pd.read_excel(url_attack, sheet_name='relationships')\n",
    "df_mitigations = pd.read_excel(url_attack, sheet_name='mitigations')\n",
    "df_software = pd.read_excel(url_attack, sheet_name='software')\n",
    "df_groups = pd.read_excel(url_attack, sheet_name='groups')"
   ]
  },
  {
   "cell_type": "code",
   "execution_count": 4,
   "metadata": {},
   "outputs": [],
   "source": [
    "df_datasources = jn.clean_names(df_datasources)\n",
    "df_tactics = jn.clean_names(df_tactics)\n",
    "df_techniques = jn.clean_names(df_techniques)\n",
    "df_relationships = jn.clean_names(df_relationships)\n",
    "df_mitigations = jn.clean_names(df_mitigations)\n",
    "df_software = jn.clean_names(df_software)\n",
    "df_groups = jn.clean_names(df_groups)"
   ]
  },
  {
   "cell_type": "code",
   "execution_count": 5,
   "metadata": {},
   "outputs": [],
   "source": [
    "# Convert string of data sources to a list of data sources\n",
    "df_techniques['data_sources'] = df_techniques['data_sources'].str.split(\",\")\n",
    "# Use Pandas explode function to expand the list of data sources to separate rows\n",
    "df_techniques = df_techniques.explode('data_sources').reset_index(drop=True)\n",
    "# Get the technique ID and data sources then drop duplicate rows; place the output in a new data frame called 'viz_data' that'll be used for our visualization.\n",
    "viz_data = df_techniques[['data_sources','id']].drop_duplicates().groupby(['data_sources']).size().reset_index()\n",
    "# Rename column to 'count' in preparation for visualization\n",
    "viz_data.columns = viz_data.columns.map(str)\n",
    "viz_data = viz_data.rename(columns={\"0\": \"count\"})"
   ]
  },
  {
   "cell_type": "code",
   "execution_count": 9,
   "metadata": {},
   "outputs": [
    {
     "data": {
      "application/vnd.plotly.v1+json": {
       "config": {
        "plotlyServerURL": "https://plot.ly"
       },
       "data": [
        {
         "alignmentgroup": "True",
         "hovertemplate": "Data Source=%{x}<br>Technique Count=%{y}<extra></extra>",
         "legendgroup": "",
         "marker": {
          "color": "#636efa",
          "pattern": {
           "shape": ""
          }
         },
         "name": "",
         "offsetgroup": "",
         "orientation": "v",
         "showlegend": false,
         "textposition": "auto",
         "type": "bar",
         "x": [
          "Command: Command Execution",
          " Process: Process Creation",
          " File: File Modification",
          " Process: OS API Execution",
          " Network Traffic: Network Traffic Flow",
          " Network Traffic: Network Traffic Content",
          "Application Log: Application Log Content",
          " Windows Registry: Windows Registry Key Modification",
          " File: File Creation",
          " File: File Access",
          " Module: Module Load",
          " Command: Command Execution",
          " Network Traffic: Network Connection Creation",
          "Network Traffic: Network Traffic Content",
          " Script: Script Execution",
          "File: File Creation",
          " File: File Metadata",
          " User Account: User Account Authentication",
          " Logon Session: Logon Session Creation",
          "Network Traffic: Network Connection Creation",
          "Internet Scan: Response Content",
          " Windows Registry: Windows Registry Key Creation",
          " Process: Process Access",
          " Sensor Health: Host Status",
          "File: File Metadata",
          " Process: Process Metadata",
          " Service: Service Creation",
          "File: File Modification",
          "Logon Session: Logon Session Creation",
          " File: File Deletion",
          "Process: OS API Execution",
          " Service: Service Metadata",
          "Active Directory: Active Directory Object Modification",
          " Windows Registry: Windows Registry Key Access",
          " Process: Process Modification",
          "Module: Module Load",
          " Logon Session: Logon Session Metadata",
          " User Account: User Account Modification",
          " Driver: Driver Load",
          "Active Directory: Active Directory Credential Request",
          " User Account: User Account Metadata",
          " Scheduled Job: Scheduled Job Creation",
          " Network Share: Network Share Access",
          " Service: Service Modification",
          "Driver: Driver Load",
          " Internet Scan: Response Metadata",
          " Firmware: Firmware Modification",
          " Group: Group Enumeration",
          "Active Directory: Active Directory Object Creation",
          "Domain Name: Active DNS"
         ],
         "xaxis": "x",
         "y": [
          228,
          224,
          90,
          82,
          81,
          72,
          68,
          65,
          64,
          45,
          44,
          40,
          38,
          36,
          30,
          27,
          27,
          25,
          23,
          23,
          22,
          22,
          20,
          17,
          17,
          15,
          14,
          14,
          14,
          13,
          12,
          11,
          11,
          10,
          10,
          10,
          10,
          8,
          8,
          8,
          6,
          6,
          6,
          6,
          6,
          6,
          6,
          6,
          5,
          5
         ],
         "yaxis": "y"
        }
       ],
       "layout": {
        "barmode": "relative",
        "legend": {
         "tracegroupgap": 0
        },
        "template": {
         "data": {
          "bar": [
           {
            "error_x": {
             "color": "#2a3f5f"
            },
            "error_y": {
             "color": "#2a3f5f"
            },
            "marker": {
             "line": {
              "color": "#E5ECF6",
              "width": 0.5
             },
             "pattern": {
              "fillmode": "overlay",
              "size": 10,
              "solidity": 0.2
             }
            },
            "type": "bar"
           }
          ],
          "barpolar": [
           {
            "marker": {
             "line": {
              "color": "#E5ECF6",
              "width": 0.5
             },
             "pattern": {
              "fillmode": "overlay",
              "size": 10,
              "solidity": 0.2
             }
            },
            "type": "barpolar"
           }
          ],
          "carpet": [
           {
            "aaxis": {
             "endlinecolor": "#2a3f5f",
             "gridcolor": "white",
             "linecolor": "white",
             "minorgridcolor": "white",
             "startlinecolor": "#2a3f5f"
            },
            "baxis": {
             "endlinecolor": "#2a3f5f",
             "gridcolor": "white",
             "linecolor": "white",
             "minorgridcolor": "white",
             "startlinecolor": "#2a3f5f"
            },
            "type": "carpet"
           }
          ],
          "choropleth": [
           {
            "colorbar": {
             "outlinewidth": 0,
             "ticks": ""
            },
            "type": "choropleth"
           }
          ],
          "contour": [
           {
            "colorbar": {
             "outlinewidth": 0,
             "ticks": ""
            },
            "colorscale": [
             [
              0,
              "#0d0887"
             ],
             [
              0.1111111111111111,
              "#46039f"
             ],
             [
              0.2222222222222222,
              "#7201a8"
             ],
             [
              0.3333333333333333,
              "#9c179e"
             ],
             [
              0.4444444444444444,
              "#bd3786"
             ],
             [
              0.5555555555555556,
              "#d8576b"
             ],
             [
              0.6666666666666666,
              "#ed7953"
             ],
             [
              0.7777777777777778,
              "#fb9f3a"
             ],
             [
              0.8888888888888888,
              "#fdca26"
             ],
             [
              1,
              "#f0f921"
             ]
            ],
            "type": "contour"
           }
          ],
          "contourcarpet": [
           {
            "colorbar": {
             "outlinewidth": 0,
             "ticks": ""
            },
            "type": "contourcarpet"
           }
          ],
          "heatmap": [
           {
            "colorbar": {
             "outlinewidth": 0,
             "ticks": ""
            },
            "colorscale": [
             [
              0,
              "#0d0887"
             ],
             [
              0.1111111111111111,
              "#46039f"
             ],
             [
              0.2222222222222222,
              "#7201a8"
             ],
             [
              0.3333333333333333,
              "#9c179e"
             ],
             [
              0.4444444444444444,
              "#bd3786"
             ],
             [
              0.5555555555555556,
              "#d8576b"
             ],
             [
              0.6666666666666666,
              "#ed7953"
             ],
             [
              0.7777777777777778,
              "#fb9f3a"
             ],
             [
              0.8888888888888888,
              "#fdca26"
             ],
             [
              1,
              "#f0f921"
             ]
            ],
            "type": "heatmap"
           }
          ],
          "heatmapgl": [
           {
            "colorbar": {
             "outlinewidth": 0,
             "ticks": ""
            },
            "colorscale": [
             [
              0,
              "#0d0887"
             ],
             [
              0.1111111111111111,
              "#46039f"
             ],
             [
              0.2222222222222222,
              "#7201a8"
             ],
             [
              0.3333333333333333,
              "#9c179e"
             ],
             [
              0.4444444444444444,
              "#bd3786"
             ],
             [
              0.5555555555555556,
              "#d8576b"
             ],
             [
              0.6666666666666666,
              "#ed7953"
             ],
             [
              0.7777777777777778,
              "#fb9f3a"
             ],
             [
              0.8888888888888888,
              "#fdca26"
             ],
             [
              1,
              "#f0f921"
             ]
            ],
            "type": "heatmapgl"
           }
          ],
          "histogram": [
           {
            "marker": {
             "pattern": {
              "fillmode": "overlay",
              "size": 10,
              "solidity": 0.2
             }
            },
            "type": "histogram"
           }
          ],
          "histogram2d": [
           {
            "colorbar": {
             "outlinewidth": 0,
             "ticks": ""
            },
            "colorscale": [
             [
              0,
              "#0d0887"
             ],
             [
              0.1111111111111111,
              "#46039f"
             ],
             [
              0.2222222222222222,
              "#7201a8"
             ],
             [
              0.3333333333333333,
              "#9c179e"
             ],
             [
              0.4444444444444444,
              "#bd3786"
             ],
             [
              0.5555555555555556,
              "#d8576b"
             ],
             [
              0.6666666666666666,
              "#ed7953"
             ],
             [
              0.7777777777777778,
              "#fb9f3a"
             ],
             [
              0.8888888888888888,
              "#fdca26"
             ],
             [
              1,
              "#f0f921"
             ]
            ],
            "type": "histogram2d"
           }
          ],
          "histogram2dcontour": [
           {
            "colorbar": {
             "outlinewidth": 0,
             "ticks": ""
            },
            "colorscale": [
             [
              0,
              "#0d0887"
             ],
             [
              0.1111111111111111,
              "#46039f"
             ],
             [
              0.2222222222222222,
              "#7201a8"
             ],
             [
              0.3333333333333333,
              "#9c179e"
             ],
             [
              0.4444444444444444,
              "#bd3786"
             ],
             [
              0.5555555555555556,
              "#d8576b"
             ],
             [
              0.6666666666666666,
              "#ed7953"
             ],
             [
              0.7777777777777778,
              "#fb9f3a"
             ],
             [
              0.8888888888888888,
              "#fdca26"
             ],
             [
              1,
              "#f0f921"
             ]
            ],
            "type": "histogram2dcontour"
           }
          ],
          "mesh3d": [
           {
            "colorbar": {
             "outlinewidth": 0,
             "ticks": ""
            },
            "type": "mesh3d"
           }
          ],
          "parcoords": [
           {
            "line": {
             "colorbar": {
              "outlinewidth": 0,
              "ticks": ""
             }
            },
            "type": "parcoords"
           }
          ],
          "pie": [
           {
            "automargin": true,
            "type": "pie"
           }
          ],
          "scatter": [
           {
            "fillpattern": {
             "fillmode": "overlay",
             "size": 10,
             "solidity": 0.2
            },
            "type": "scatter"
           }
          ],
          "scatter3d": [
           {
            "line": {
             "colorbar": {
              "outlinewidth": 0,
              "ticks": ""
             }
            },
            "marker": {
             "colorbar": {
              "outlinewidth": 0,
              "ticks": ""
             }
            },
            "type": "scatter3d"
           }
          ],
          "scattercarpet": [
           {
            "marker": {
             "colorbar": {
              "outlinewidth": 0,
              "ticks": ""
             }
            },
            "type": "scattercarpet"
           }
          ],
          "scattergeo": [
           {
            "marker": {
             "colorbar": {
              "outlinewidth": 0,
              "ticks": ""
             }
            },
            "type": "scattergeo"
           }
          ],
          "scattergl": [
           {
            "marker": {
             "colorbar": {
              "outlinewidth": 0,
              "ticks": ""
             }
            },
            "type": "scattergl"
           }
          ],
          "scattermapbox": [
           {
            "marker": {
             "colorbar": {
              "outlinewidth": 0,
              "ticks": ""
             }
            },
            "type": "scattermapbox"
           }
          ],
          "scatterpolar": [
           {
            "marker": {
             "colorbar": {
              "outlinewidth": 0,
              "ticks": ""
             }
            },
            "type": "scatterpolar"
           }
          ],
          "scatterpolargl": [
           {
            "marker": {
             "colorbar": {
              "outlinewidth": 0,
              "ticks": ""
             }
            },
            "type": "scatterpolargl"
           }
          ],
          "scatterternary": [
           {
            "marker": {
             "colorbar": {
              "outlinewidth": 0,
              "ticks": ""
             }
            },
            "type": "scatterternary"
           }
          ],
          "surface": [
           {
            "colorbar": {
             "outlinewidth": 0,
             "ticks": ""
            },
            "colorscale": [
             [
              0,
              "#0d0887"
             ],
             [
              0.1111111111111111,
              "#46039f"
             ],
             [
              0.2222222222222222,
              "#7201a8"
             ],
             [
              0.3333333333333333,
              "#9c179e"
             ],
             [
              0.4444444444444444,
              "#bd3786"
             ],
             [
              0.5555555555555556,
              "#d8576b"
             ],
             [
              0.6666666666666666,
              "#ed7953"
             ],
             [
              0.7777777777777778,
              "#fb9f3a"
             ],
             [
              0.8888888888888888,
              "#fdca26"
             ],
             [
              1,
              "#f0f921"
             ]
            ],
            "type": "surface"
           }
          ],
          "table": [
           {
            "cells": {
             "fill": {
              "color": "#EBF0F8"
             },
             "line": {
              "color": "white"
             }
            },
            "header": {
             "fill": {
              "color": "#C8D4E3"
             },
             "line": {
              "color": "white"
             }
            },
            "type": "table"
           }
          ]
         },
         "layout": {
          "annotationdefaults": {
           "arrowcolor": "#2a3f5f",
           "arrowhead": 0,
           "arrowwidth": 1
          },
          "autotypenumbers": "strict",
          "coloraxis": {
           "colorbar": {
            "outlinewidth": 0,
            "ticks": ""
           }
          },
          "colorscale": {
           "diverging": [
            [
             0,
             "#8e0152"
            ],
            [
             0.1,
             "#c51b7d"
            ],
            [
             0.2,
             "#de77ae"
            ],
            [
             0.3,
             "#f1b6da"
            ],
            [
             0.4,
             "#fde0ef"
            ],
            [
             0.5,
             "#f7f7f7"
            ],
            [
             0.6,
             "#e6f5d0"
            ],
            [
             0.7,
             "#b8e186"
            ],
            [
             0.8,
             "#7fbc41"
            ],
            [
             0.9,
             "#4d9221"
            ],
            [
             1,
             "#276419"
            ]
           ],
           "sequential": [
            [
             0,
             "#0d0887"
            ],
            [
             0.1111111111111111,
             "#46039f"
            ],
            [
             0.2222222222222222,
             "#7201a8"
            ],
            [
             0.3333333333333333,
             "#9c179e"
            ],
            [
             0.4444444444444444,
             "#bd3786"
            ],
            [
             0.5555555555555556,
             "#d8576b"
            ],
            [
             0.6666666666666666,
             "#ed7953"
            ],
            [
             0.7777777777777778,
             "#fb9f3a"
            ],
            [
             0.8888888888888888,
             "#fdca26"
            ],
            [
             1,
             "#f0f921"
            ]
           ],
           "sequentialminus": [
            [
             0,
             "#0d0887"
            ],
            [
             0.1111111111111111,
             "#46039f"
            ],
            [
             0.2222222222222222,
             "#7201a8"
            ],
            [
             0.3333333333333333,
             "#9c179e"
            ],
            [
             0.4444444444444444,
             "#bd3786"
            ],
            [
             0.5555555555555556,
             "#d8576b"
            ],
            [
             0.6666666666666666,
             "#ed7953"
            ],
            [
             0.7777777777777778,
             "#fb9f3a"
            ],
            [
             0.8888888888888888,
             "#fdca26"
            ],
            [
             1,
             "#f0f921"
            ]
           ]
          },
          "colorway": [
           "#636efa",
           "#EF553B",
           "#00cc96",
           "#ab63fa",
           "#FFA15A",
           "#19d3f3",
           "#FF6692",
           "#B6E880",
           "#FF97FF",
           "#FECB52"
          ],
          "font": {
           "color": "#2a3f5f"
          },
          "geo": {
           "bgcolor": "white",
           "lakecolor": "white",
           "landcolor": "#E5ECF6",
           "showlakes": true,
           "showland": true,
           "subunitcolor": "white"
          },
          "hoverlabel": {
           "align": "left"
          },
          "hovermode": "closest",
          "mapbox": {
           "style": "light"
          },
          "paper_bgcolor": "white",
          "plot_bgcolor": "#E5ECF6",
          "polar": {
           "angularaxis": {
            "gridcolor": "white",
            "linecolor": "white",
            "ticks": ""
           },
           "bgcolor": "#E5ECF6",
           "radialaxis": {
            "gridcolor": "white",
            "linecolor": "white",
            "ticks": ""
           }
          },
          "scene": {
           "xaxis": {
            "backgroundcolor": "#E5ECF6",
            "gridcolor": "white",
            "gridwidth": 2,
            "linecolor": "white",
            "showbackground": true,
            "ticks": "",
            "zerolinecolor": "white"
           },
           "yaxis": {
            "backgroundcolor": "#E5ECF6",
            "gridcolor": "white",
            "gridwidth": 2,
            "linecolor": "white",
            "showbackground": true,
            "ticks": "",
            "zerolinecolor": "white"
           },
           "zaxis": {
            "backgroundcolor": "#E5ECF6",
            "gridcolor": "white",
            "gridwidth": 2,
            "linecolor": "white",
            "showbackground": true,
            "ticks": "",
            "zerolinecolor": "white"
           }
          },
          "shapedefaults": {
           "line": {
            "color": "#2a3f5f"
           }
          },
          "ternary": {
           "aaxis": {
            "gridcolor": "white",
            "linecolor": "white",
            "ticks": ""
           },
           "baxis": {
            "gridcolor": "white",
            "linecolor": "white",
            "ticks": ""
           },
           "bgcolor": "#E5ECF6",
           "caxis": {
            "gridcolor": "white",
            "linecolor": "white",
            "ticks": ""
           }
          },
          "title": {
           "x": 0.05
          },
          "xaxis": {
           "automargin": true,
           "gridcolor": "white",
           "linecolor": "white",
           "ticks": "",
           "title": {
            "standoff": 15
           },
           "zerolinecolor": "white",
           "zerolinewidth": 2
          },
          "yaxis": {
           "automargin": true,
           "gridcolor": "white",
           "linecolor": "white",
           "ticks": "",
           "title": {
            "standoff": 15
           },
           "zerolinecolor": "white",
           "zerolinewidth": 2
          }
         }
        },
        "title": {
         "text": "MITRE ATT&CK: Sub-Technique Count by Data Source (Top 25)"
        },
        "xaxis": {
         "anchor": "y",
         "domain": [
          0,
          1
         ],
         "title": {
          "text": "Data Source"
         }
        },
        "yaxis": {
         "anchor": "x",
         "domain": [
          0,
          1
         ],
         "title": {
          "text": "Technique Count"
         }
        }
       }
      }
     },
     "metadata": {},
     "output_type": "display_data"
    }
   ],
   "source": [
    "fig_te_by_ds  = px.bar(viz_data.sort_values('count', ascending=False).head(50), x='data_sources', y='count', title='MITRE ATT&CK: Sub-Technique Count by Data Source (Top 25)', labels={'count':'Technique Count', 'data_sources':'Data Source'})\n",
    "fig_te_by_ds.show()"
   ]
  },
  {
   "cell_type": "code",
   "execution_count": 32,
   "metadata": {},
   "outputs": [
    {
     "data": {
      "text/html": [
       "<div>\n",
       "<style scoped>\n",
       "    .dataframe tbody tr th:only-of-type {\n",
       "        vertical-align: middle;\n",
       "    }\n",
       "\n",
       "    .dataframe tbody tr th {\n",
       "        vertical-align: top;\n",
       "    }\n",
       "\n",
       "    .dataframe thead th {\n",
       "        text-align: right;\n",
       "    }\n",
       "</style>\n",
       "<table border=\"1\" class=\"dataframe\">\n",
       "  <thead>\n",
       "    <tr style=\"text-align: right;\">\n",
       "      <th></th>\n",
       "      <th>version</th>\n",
       "    </tr>\n",
       "  </thead>\n",
       "  <tbody>\n",
       "    <tr>\n",
       "      <th>count</th>\n",
       "      <td>635.000000</td>\n",
       "    </tr>\n",
       "    <tr>\n",
       "      <th>mean</th>\n",
       "      <td>1.197008</td>\n",
       "    </tr>\n",
       "    <tr>\n",
       "      <th>std</th>\n",
       "      <td>0.345599</td>\n",
       "    </tr>\n",
       "    <tr>\n",
       "      <th>min</th>\n",
       "      <td>1.000000</td>\n",
       "    </tr>\n",
       "    <tr>\n",
       "      <th>25%</th>\n",
       "      <td>1.000000</td>\n",
       "    </tr>\n",
       "    <tr>\n",
       "      <th>50%</th>\n",
       "      <td>1.100000</td>\n",
       "    </tr>\n",
       "    <tr>\n",
       "      <th>75%</th>\n",
       "      <td>1.200000</td>\n",
       "    </tr>\n",
       "    <tr>\n",
       "      <th>max</th>\n",
       "      <td>3.100000</td>\n",
       "    </tr>\n",
       "  </tbody>\n",
       "</table>\n",
       "</div>"
      ],
      "text/plain": [
       "          version\n",
       "count  635.000000\n",
       "mean     1.197008\n",
       "std      0.345599\n",
       "min      1.000000\n",
       "25%      1.000000\n",
       "50%      1.100000\n",
       "75%      1.200000\n",
       "max      3.100000"
      ]
     },
     "execution_count": 32,
     "metadata": {},
     "output_type": "execute_result"
    }
   ],
   "source": [
    "df_software_malware = df_software.loc[df_software['type'] == 'malware']\n",
    "\n",
    "df_software_malware.describe()\n"
   ]
  },
  {
   "cell_type": "code",
   "execution_count": 36,
   "metadata": {},
   "outputs": [
    {
     "data": {
      "text/html": [
       "<div>\n",
       "<style scoped>\n",
       "    .dataframe tbody tr th:only-of-type {\n",
       "        vertical-align: middle;\n",
       "    }\n",
       "\n",
       "    .dataframe tbody tr th {\n",
       "        vertical-align: top;\n",
       "    }\n",
       "\n",
       "    .dataframe thead th {\n",
       "        text-align: right;\n",
       "    }\n",
       "</style>\n",
       "<table border=\"1\" class=\"dataframe\">\n",
       "  <thead>\n",
       "    <tr style=\"text-align: right;\">\n",
       "      <th></th>\n",
       "      <th>id</th>\n",
       "      <th>name</th>\n",
       "      <th>description</th>\n",
       "      <th>url</th>\n",
       "      <th>created</th>\n",
       "      <th>last_modified</th>\n",
       "      <th>version</th>\n",
       "      <th>contributors</th>\n",
       "      <th>associated_groups</th>\n",
       "      <th>associated_groups_citations</th>\n",
       "      <th>relationship_citations</th>\n",
       "    </tr>\n",
       "  </thead>\n",
       "  <tbody>\n",
       "    <tr>\n",
       "      <th>7</th>\n",
       "      <td>G0007</td>\n",
       "      <td>APT28</td>\n",
       "      <td>[APT28](https://attack.mitre.org/groups/G0007)...</td>\n",
       "      <td>https://attack.mitre.org/groups/G0007</td>\n",
       "      <td>31 May 2017</td>\n",
       "      <td>26 March 2023</td>\n",
       "      <td>4.0</td>\n",
       "      <td>Drew Church, Splunk; Emily Ratliff, IBM; Richa...</td>\n",
       "      <td>Fancy Bear, Group 74, IRON TWILIGHT, Pawn Stor...</td>\n",
       "      <td>(Citation: Crowdstrike DNC June 2016)(Citation...</td>\n",
       "      <td>(Citation: Securelist Sofacy Feb 2018),(Citati...</td>\n",
       "    </tr>\n",
       "  </tbody>\n",
       "</table>\n",
       "</div>"
      ],
      "text/plain": [
       "      id   name                                        description   \n",
       "7  G0007  APT28  [APT28](https://attack.mitre.org/groups/G0007)...  \\\n",
       "\n",
       "                                     url      created  last_modified  version   \n",
       "7  https://attack.mitre.org/groups/G0007  31 May 2017  26 March 2023      4.0  \\\n",
       "\n",
       "                                        contributors   \n",
       "7  Drew Church, Splunk; Emily Ratliff, IBM; Richa...  \\\n",
       "\n",
       "                                   associated_groups   \n",
       "7  Fancy Bear, Group 74, IRON TWILIGHT, Pawn Stor...  \\\n",
       "\n",
       "                         associated_groups_citations   \n",
       "7  (Citation: Crowdstrike DNC June 2016)(Citation...  \\\n",
       "\n",
       "                              relationship_citations  \n",
       "7  (Citation: Securelist Sofacy Feb 2018),(Citati...  "
      ]
     },
     "execution_count": 36,
     "metadata": {},
     "output_type": "execute_result"
    }
   ],
   "source": [
    "df_groups_APT28 = df_groups.loc[df_groups['name'] == 'APT28']\n",
    "\n",
    "df_groups_APT28"
   ]
  },
  {
   "cell_type": "code",
   "execution_count": 100,
   "metadata": {},
   "outputs": [
    {
     "data": {
      "text/html": [
       "<div>\n",
       "<style scoped>\n",
       "    .dataframe tbody tr th:only-of-type {\n",
       "        vertical-align: middle;\n",
       "    }\n",
       "\n",
       "    .dataframe tbody tr th {\n",
       "        vertical-align: top;\n",
       "    }\n",
       "\n",
       "    .dataframe thead th {\n",
       "        text-align: right;\n",
       "    }\n",
       "</style>\n",
       "<table border=\"1\" class=\"dataframe\">\n",
       "  <thead>\n",
       "    <tr style=\"text-align: right;\">\n",
       "      <th></th>\n",
       "      <th>source_id</th>\n",
       "      <th>source_name</th>\n",
       "      <th>source_type</th>\n",
       "      <th>mapping_type</th>\n",
       "      <th>target_id</th>\n",
       "      <th>target_name</th>\n",
       "      <th>target_type</th>\n",
       "      <th>mapping_description</th>\n",
       "    </tr>\n",
       "  </thead>\n",
       "  <tbody>\n",
       "    <tr>\n",
       "      <th>3724</th>\n",
       "      <td>G0007</td>\n",
       "      <td>APT28</td>\n",
       "      <td>group</td>\n",
       "      <td>uses</td>\n",
       "      <td>S0045</td>\n",
       "      <td>ADVSTORESHELL</td>\n",
       "      <td>software</td>\n",
       "      <td>(Citation: Kaspersky Sofacy)(Citation: Securel...</td>\n",
       "    </tr>\n",
       "    <tr>\n",
       "      <th>3725</th>\n",
       "      <td>G0007</td>\n",
       "      <td>APT28</td>\n",
       "      <td>group</td>\n",
       "      <td>uses</td>\n",
       "      <td>S0023</td>\n",
       "      <td>CHOPSTICK</td>\n",
       "      <td>software</td>\n",
       "      <td>(Citation: FireEye APT28)(Citation: Kaspersky ...</td>\n",
       "    </tr>\n",
       "    <tr>\n",
       "      <th>3726</th>\n",
       "      <td>G0007</td>\n",
       "      <td>APT28</td>\n",
       "      <td>group</td>\n",
       "      <td>uses</td>\n",
       "      <td>S0137</td>\n",
       "      <td>CORESHELL</td>\n",
       "      <td>software</td>\n",
       "      <td>(Citation: FireEye APT28)(Citation: Securework...</td>\n",
       "    </tr>\n",
       "    <tr>\n",
       "      <th>3727</th>\n",
       "      <td>G0007</td>\n",
       "      <td>APT28</td>\n",
       "      <td>group</td>\n",
       "      <td>uses</td>\n",
       "      <td>S0351</td>\n",
       "      <td>Cannon</td>\n",
       "      <td>software</td>\n",
       "      <td>(Citation: Unit42 Cannon Nov 2018)(Citation: U...</td>\n",
       "    </tr>\n",
       "    <tr>\n",
       "      <th>3728</th>\n",
       "      <td>G0007</td>\n",
       "      <td>APT28</td>\n",
       "      <td>group</td>\n",
       "      <td>uses</td>\n",
       "      <td>S0243</td>\n",
       "      <td>DealersChoice</td>\n",
       "      <td>software</td>\n",
       "      <td>(Citation: Sofacy DealersChoice)(Citation: Sec...</td>\n",
       "    </tr>\n",
       "    <tr>\n",
       "      <th>3729</th>\n",
       "      <td>G0007</td>\n",
       "      <td>APT28</td>\n",
       "      <td>group</td>\n",
       "      <td>uses</td>\n",
       "      <td>S0134</td>\n",
       "      <td>Downdelph</td>\n",
       "      <td>software</td>\n",
       "      <td>(Citation: ESET Sednit Part 3)(Citation: Secur...</td>\n",
       "    </tr>\n",
       "    <tr>\n",
       "      <th>3730</th>\n",
       "      <td>G0007</td>\n",
       "      <td>APT28</td>\n",
       "      <td>group</td>\n",
       "      <td>uses</td>\n",
       "      <td>S0502</td>\n",
       "      <td>Drovorub</td>\n",
       "      <td>software</td>\n",
       "      <td>(Citation: NSA/FBI Drovorub August 2020)</td>\n",
       "    </tr>\n",
       "    <tr>\n",
       "      <th>3731</th>\n",
       "      <td>G0007</td>\n",
       "      <td>APT28</td>\n",
       "      <td>group</td>\n",
       "      <td>uses</td>\n",
       "      <td>S0193</td>\n",
       "      <td>Forfiles</td>\n",
       "      <td>software</td>\n",
       "      <td>(Citation: Überwachung APT28 Forfiles June 2015)</td>\n",
       "    </tr>\n",
       "    <tr>\n",
       "      <th>3732</th>\n",
       "      <td>G0007</td>\n",
       "      <td>APT28</td>\n",
       "      <td>group</td>\n",
       "      <td>uses</td>\n",
       "      <td>S0410</td>\n",
       "      <td>Fysbis</td>\n",
       "      <td>software</td>\n",
       "      <td>(Citation: Fysbis Palo Alto Analysis)</td>\n",
       "    </tr>\n",
       "    <tr>\n",
       "      <th>3733</th>\n",
       "      <td>G0007</td>\n",
       "      <td>APT28</td>\n",
       "      <td>group</td>\n",
       "      <td>uses</td>\n",
       "      <td>S0135</td>\n",
       "      <td>HIDEDRV</td>\n",
       "      <td>software</td>\n",
       "      <td>(Citation: ESET Sednit Part 3)</td>\n",
       "    </tr>\n",
       "    <tr>\n",
       "      <th>3734</th>\n",
       "      <td>G0007</td>\n",
       "      <td>APT28</td>\n",
       "      <td>group</td>\n",
       "      <td>uses</td>\n",
       "      <td>S0044</td>\n",
       "      <td>JHUHUGIT</td>\n",
       "      <td>software</td>\n",
       "      <td>(Citation: FireEye APT28 January 2017)(Citatio...</td>\n",
       "    </tr>\n",
       "    <tr>\n",
       "      <th>3735</th>\n",
       "      <td>G0007</td>\n",
       "      <td>APT28</td>\n",
       "      <td>group</td>\n",
       "      <td>uses</td>\n",
       "      <td>S0250</td>\n",
       "      <td>Koadic</td>\n",
       "      <td>software</td>\n",
       "      <td>(Citation: Palo Alto Sofacy 06-2018)</td>\n",
       "    </tr>\n",
       "    <tr>\n",
       "      <th>3736</th>\n",
       "      <td>G0007</td>\n",
       "      <td>APT28</td>\n",
       "      <td>group</td>\n",
       "      <td>uses</td>\n",
       "      <td>S0162</td>\n",
       "      <td>Komplex</td>\n",
       "      <td>software</td>\n",
       "      <td>(Citation: XAgentOSX 2017)(Citation: Sofacy Ko...</td>\n",
       "    </tr>\n",
       "    <tr>\n",
       "      <th>3737</th>\n",
       "      <td>G0007</td>\n",
       "      <td>APT28</td>\n",
       "      <td>group</td>\n",
       "      <td>uses</td>\n",
       "      <td>S0397</td>\n",
       "      <td>LoJax</td>\n",
       "      <td>software</td>\n",
       "      <td>(Citation: ESET LoJax Sept 2018)</td>\n",
       "    </tr>\n",
       "    <tr>\n",
       "      <th>3738</th>\n",
       "      <td>G0007</td>\n",
       "      <td>APT28</td>\n",
       "      <td>group</td>\n",
       "      <td>uses</td>\n",
       "      <td>S0002</td>\n",
       "      <td>Mimikatz</td>\n",
       "      <td>software</td>\n",
       "      <td>(Citation: Kaspersky Sofacy)</td>\n",
       "    </tr>\n",
       "    <tr>\n",
       "      <th>3739</th>\n",
       "      <td>G0007</td>\n",
       "      <td>APT28</td>\n",
       "      <td>group</td>\n",
       "      <td>uses</td>\n",
       "      <td>S0039</td>\n",
       "      <td>Net</td>\n",
       "      <td>software</td>\n",
       "      <td>(Citation: Cybersecurity Advisory GRU Brute Fo...</td>\n",
       "    </tr>\n",
       "    <tr>\n",
       "      <th>3740</th>\n",
       "      <td>G0007</td>\n",
       "      <td>APT28</td>\n",
       "      <td>group</td>\n",
       "      <td>uses</td>\n",
       "      <td>S0138</td>\n",
       "      <td>OLDBAIT</td>\n",
       "      <td>software</td>\n",
       "      <td>(Citation: FireEye APT28)</td>\n",
       "    </tr>\n",
       "    <tr>\n",
       "      <th>3741</th>\n",
       "      <td>G0007</td>\n",
       "      <td>APT28</td>\n",
       "      <td>group</td>\n",
       "      <td>uses</td>\n",
       "      <td>S0174</td>\n",
       "      <td>Responder</td>\n",
       "      <td>software</td>\n",
       "      <td>(Citation: FireEye APT28 Hospitality Aug 2017)...</td>\n",
       "    </tr>\n",
       "    <tr>\n",
       "      <th>3742</th>\n",
       "      <td>G0007</td>\n",
       "      <td>APT28</td>\n",
       "      <td>group</td>\n",
       "      <td>uses</td>\n",
       "      <td>S0183</td>\n",
       "      <td>Tor</td>\n",
       "      <td>software</td>\n",
       "      <td>(Citation: Cybersecurity Advisory GRU Brute Fo...</td>\n",
       "    </tr>\n",
       "    <tr>\n",
       "      <th>3743</th>\n",
       "      <td>G0007</td>\n",
       "      <td>APT28</td>\n",
       "      <td>group</td>\n",
       "      <td>uses</td>\n",
       "      <td>S0136</td>\n",
       "      <td>USBStealer</td>\n",
       "      <td>software</td>\n",
       "      <td>(Citation: ESET Sednit Part 3)</td>\n",
       "    </tr>\n",
       "    <tr>\n",
       "      <th>3744</th>\n",
       "      <td>G0007</td>\n",
       "      <td>APT28</td>\n",
       "      <td>group</td>\n",
       "      <td>uses</td>\n",
       "      <td>S0645</td>\n",
       "      <td>Wevtutil</td>\n",
       "      <td>software</td>\n",
       "      <td>(Citation: Crowdstrike DNC June 2016)</td>\n",
       "    </tr>\n",
       "    <tr>\n",
       "      <th>3745</th>\n",
       "      <td>G0007</td>\n",
       "      <td>APT28</td>\n",
       "      <td>group</td>\n",
       "      <td>uses</td>\n",
       "      <td>S0191</td>\n",
       "      <td>Winexe</td>\n",
       "      <td>software</td>\n",
       "      <td>(Citation: Überwachung APT28 Forfiles June 201...</td>\n",
       "    </tr>\n",
       "    <tr>\n",
       "      <th>3746</th>\n",
       "      <td>G0007</td>\n",
       "      <td>APT28</td>\n",
       "      <td>group</td>\n",
       "      <td>uses</td>\n",
       "      <td>S0161</td>\n",
       "      <td>XAgentOSX</td>\n",
       "      <td>software</td>\n",
       "      <td>(Citation: XAgentOSX 2017)(Citation: Symantec ...</td>\n",
       "    </tr>\n",
       "    <tr>\n",
       "      <th>3747</th>\n",
       "      <td>G0007</td>\n",
       "      <td>APT28</td>\n",
       "      <td>group</td>\n",
       "      <td>uses</td>\n",
       "      <td>S0117</td>\n",
       "      <td>XTunnel</td>\n",
       "      <td>software</td>\n",
       "      <td>(Citation: ESET Sednit Part 3)(Citation: Syman...</td>\n",
       "    </tr>\n",
       "    <tr>\n",
       "      <th>3748</th>\n",
       "      <td>G0007</td>\n",
       "      <td>APT28</td>\n",
       "      <td>group</td>\n",
       "      <td>uses</td>\n",
       "      <td>S0251</td>\n",
       "      <td>Zebrocy</td>\n",
       "      <td>software</td>\n",
       "      <td>(Citation: Palo Alto Sofacy 06-2018)(Citation:...</td>\n",
       "    </tr>\n",
       "    <tr>\n",
       "      <th>3749</th>\n",
       "      <td>G0007</td>\n",
       "      <td>APT28</td>\n",
       "      <td>group</td>\n",
       "      <td>uses</td>\n",
       "      <td>S0160</td>\n",
       "      <td>certutil</td>\n",
       "      <td>software</td>\n",
       "      <td>(Citation: Unit 42 Sofacy Feb 2018)(Citation: ...</td>\n",
       "    </tr>\n",
       "  </tbody>\n",
       "</table>\n",
       "</div>"
      ],
      "text/plain": [
       "     source_id source_name source_type mapping_type target_id    target_name   \n",
       "3724     G0007       APT28       group         uses     S0045  ADVSTORESHELL  \\\n",
       "3725     G0007       APT28       group         uses     S0023      CHOPSTICK   \n",
       "3726     G0007       APT28       group         uses     S0137      CORESHELL   \n",
       "3727     G0007       APT28       group         uses     S0351         Cannon   \n",
       "3728     G0007       APT28       group         uses     S0243  DealersChoice   \n",
       "3729     G0007       APT28       group         uses     S0134      Downdelph   \n",
       "3730     G0007       APT28       group         uses     S0502       Drovorub   \n",
       "3731     G0007       APT28       group         uses     S0193       Forfiles   \n",
       "3732     G0007       APT28       group         uses     S0410         Fysbis   \n",
       "3733     G0007       APT28       group         uses     S0135        HIDEDRV   \n",
       "3734     G0007       APT28       group         uses     S0044       JHUHUGIT   \n",
       "3735     G0007       APT28       group         uses     S0250         Koadic   \n",
       "3736     G0007       APT28       group         uses     S0162        Komplex   \n",
       "3737     G0007       APT28       group         uses     S0397          LoJax   \n",
       "3738     G0007       APT28       group         uses     S0002       Mimikatz   \n",
       "3739     G0007       APT28       group         uses     S0039            Net   \n",
       "3740     G0007       APT28       group         uses     S0138        OLDBAIT   \n",
       "3741     G0007       APT28       group         uses     S0174      Responder   \n",
       "3742     G0007       APT28       group         uses     S0183            Tor   \n",
       "3743     G0007       APT28       group         uses     S0136     USBStealer   \n",
       "3744     G0007       APT28       group         uses     S0645       Wevtutil   \n",
       "3745     G0007       APT28       group         uses     S0191         Winexe   \n",
       "3746     G0007       APT28       group         uses     S0161      XAgentOSX   \n",
       "3747     G0007       APT28       group         uses     S0117        XTunnel   \n",
       "3748     G0007       APT28       group         uses     S0251        Zebrocy   \n",
       "3749     G0007       APT28       group         uses     S0160       certutil   \n",
       "\n",
       "     target_type                                mapping_description  \n",
       "3724    software  (Citation: Kaspersky Sofacy)(Citation: Securel...  \n",
       "3725    software  (Citation: FireEye APT28)(Citation: Kaspersky ...  \n",
       "3726    software  (Citation: FireEye APT28)(Citation: Securework...  \n",
       "3727    software  (Citation: Unit42 Cannon Nov 2018)(Citation: U...  \n",
       "3728    software  (Citation: Sofacy DealersChoice)(Citation: Sec...  \n",
       "3729    software  (Citation: ESET Sednit Part 3)(Citation: Secur...  \n",
       "3730    software           (Citation: NSA/FBI Drovorub August 2020)  \n",
       "3731    software   (Citation: Überwachung APT28 Forfiles June 2015)  \n",
       "3732    software              (Citation: Fysbis Palo Alto Analysis)  \n",
       "3733    software                     (Citation: ESET Sednit Part 3)  \n",
       "3734    software  (Citation: FireEye APT28 January 2017)(Citatio...  \n",
       "3735    software               (Citation: Palo Alto Sofacy 06-2018)  \n",
       "3736    software  (Citation: XAgentOSX 2017)(Citation: Sofacy Ko...  \n",
       "3737    software                   (Citation: ESET LoJax Sept 2018)  \n",
       "3738    software                       (Citation: Kaspersky Sofacy)  \n",
       "3739    software  (Citation: Cybersecurity Advisory GRU Brute Fo...  \n",
       "3740    software                          (Citation: FireEye APT28)  \n",
       "3741    software  (Citation: FireEye APT28 Hospitality Aug 2017)...  \n",
       "3742    software  (Citation: Cybersecurity Advisory GRU Brute Fo...  \n",
       "3743    software                     (Citation: ESET Sednit Part 3)  \n",
       "3744    software              (Citation: Crowdstrike DNC June 2016)  \n",
       "3745    software  (Citation: Überwachung APT28 Forfiles June 201...  \n",
       "3746    software  (Citation: XAgentOSX 2017)(Citation: Symantec ...  \n",
       "3747    software  (Citation: ESET Sednit Part 3)(Citation: Syman...  \n",
       "3748    software  (Citation: Palo Alto Sofacy 06-2018)(Citation:...  \n",
       "3749    software  (Citation: Unit 42 Sofacy Feb 2018)(Citation: ...  "
      ]
     },
     "execution_count": 100,
     "metadata": {},
     "output_type": "execute_result"
    }
   ],
   "source": [
    "df_relationships_APT28 = df_relationships.loc[df_relationships['source_name'] == 'APT28']\n",
    "\n",
    "df_relationships_APT28 = df_relationships_APT28.loc[df_relationships_APT28['target_type'] == 'software']\n",
    "\n",
    "df_relationships_APT28"
   ]
  },
  {
   "cell_type": "code",
   "execution_count": 127,
   "metadata": {},
   "outputs": [
    {
     "data": {
      "text/plain": [
       "source_id              26\n",
       "source_name            26\n",
       "source_type            26\n",
       "mapping_type           26\n",
       "target_id              26\n",
       "target_name            26\n",
       "target_type            26\n",
       "mapping_description    26\n",
       "dtype: int64"
      ]
     },
     "execution_count": 127,
     "metadata": {},
     "output_type": "execute_result"
    }
   ],
   "source": [
    "df_relationships_APT28.count()"
   ]
  },
  {
   "cell_type": "code",
   "execution_count": 125,
   "metadata": {},
   "outputs": [
    {
     "data": {
      "image/svg+xml": [
       "<?xml version=\"1.0\" encoding=\"UTF-8\" standalone=\"no\"?>\n",
       "<!DOCTYPE svg PUBLIC \"-//W3C//DTD SVG 1.1//EN\"\n",
       " \"http://www.w3.org/Graphics/SVG/1.1/DTD/svg11.dtd\">\n",
       "<!-- Generated by graphviz version 8.0.5 (20230430.1635)\n",
       " -->\n",
       "<!-- Pages: 1 -->\n",
       "<svg width=\"138pt\" height=\"135pt\"\n",
       " viewBox=\"0.00 0.00 138.00 134.50\" xmlns=\"http://www.w3.org/2000/svg\" xmlns:xlink=\"http://www.w3.org/1999/xlink\">\n",
       "<g id=\"graph0\" class=\"graph\" transform=\"scale(1 1) rotate(0) translate(4 130.5)\">\n",
       "<polygon fill=\"white\" stroke=\"none\" points=\"-4,4 -4,-130.5 134,-130.5 134,4 -4,4\"/>\n",
       "<!-- 1 -->\n",
       "<g id=\"node1\" class=\"node\">\n",
       "<title>1</title>\n",
       "<polygon fill=\"skyblue\" stroke=\"skyblue\" points=\"37.5,-90 37.5,-126 92.5,-126 92.5,-90 37.5,-90\"/>\n",
       "<text text-anchor=\"middle\" x=\"65\" y=\"-102.95\" font-family=\"Times,serif\" font-size=\"14.00\">APT28</text>\n",
       "</g>\n",
       "<!-- 2 -->\n",
       "<g id=\"node2\" class=\"node\">\n",
       "<title>2</title>\n",
       "<polygon fill=\"skyblue\" stroke=\"skyblue\" points=\"0,-0.5 0,-36.5 130,-36.5 130,-0.5 0,-0.5\"/>\n",
       "<text text-anchor=\"middle\" x=\"65\" y=\"-13.45\" font-family=\"Times,serif\" font-size=\"14.00\">ADVSTORESHELL</text>\n",
       "</g>\n",
       "<!-- 1&#45;&gt;2 -->\n",
       "<g id=\"edge1\" class=\"edge\">\n",
       "<title>1&#45;&gt;2</title>\n",
       "<path fill=\"none\" stroke=\"black\" d=\"M65,-90.13C65,-77.9 65,-61.1 65,-46.96\"/>\n",
       "<polygon fill=\"black\" stroke=\"black\" points=\"68.5,-47.32 65,-37.32 61.5,-47.32 68.5,-47.32\"/>\n",
       "<text text-anchor=\"middle\" x=\"78.5\" y=\"-58.2\" font-family=\"Times,serif\" font-size=\"14.00\"> uses</text>\n",
       "</g>\n",
       "</g>\n",
       "</svg>\n"
      ],
      "text/plain": [
       "<graphviz.graphs.Digraph at 0x1607ba280>"
      ]
     },
     "execution_count": 125,
     "metadata": {},
     "output_type": "execute_result"
    }
   ],
   "source": [
    "\n",
    "import graphviz\n",
    "f = graphviz.Digraph(filename = \"output/attacktree.gv\")\n",
    "\n",
    "names = [\"1\",\"2\"]\n",
    "positions = [df_relationships_APT28['source_name'].iloc[0],\n",
    "             df_relationships_APT28['target_name'].iloc[0]]\n",
    "for name, position in zip (names, positions):\n",
    "     f.node(name, position, shape = \"record\", style = \"filled\", color = \"skyblue\")\n",
    " \n",
    "#Specify edges\n",
    "f.edge(\"1\",\"2\", label=\" uses\");\n",
    "\n",
    "f"
   ]
  }
 ],
 "metadata": {
  "kernelspec": {
   "display_name": "Python 3",
   "language": "python",
   "name": "python3"
  },
  "language_info": {
   "codemirror_mode": {
    "name": "ipython",
    "version": 3
   },
   "file_extension": ".py",
   "mimetype": "text/x-python",
   "name": "python",
   "nbconvert_exporter": "python",
   "pygments_lexer": "ipython3",
   "version": "3.9.6"
  },
  "orig_nbformat": 4
 },
 "nbformat": 4,
 "nbformat_minor": 2
}
